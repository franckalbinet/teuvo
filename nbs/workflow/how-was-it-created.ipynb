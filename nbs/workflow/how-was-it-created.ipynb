{
 "cells": [
  {
   "cell_type": "markdown",
   "metadata": {},
   "source": [
    "# How was it created?"
   ]
  },
  {
   "cell_type": "markdown",
   "metadata": {},
   "source": [
    "## Problem statement\n",
    "\n",
    "Reference: [Self-Organizing Map (Kohonen)](https://www.wikiwand.com/en/articles/Self-organizing_map)"
   ]
  },
  {
   "cell_type": "markdown",
   "metadata": {},
   "source": [
    "## Table of Contents \n",
    "\n",
    "*NB: Generated a posteriori*\n",
    "\n",
    "\n",
    "I. CORE SOM COMPONENTS\n",
    "\n",
    "   - I.1 Weight Grid Initialization\n",
    "   - I.2 Distance Metrics\n",
    "   - I.3 BMU (Best Matching Unit)\n",
    "   - I.4 Neighborhood Function\n",
    "   - I.5 Weight Update Rule\n",
    "\n",
    "II. EXTENDED TRAINING COMPONENTS\n",
    "\n",
    "   - II.1 A 2D Toy Dataset\n",
    "   - II.2 U-Matrix\n",
    "   - II.3 Naive Training Loop\n",
    "   - II.4 Quantization Error (QE)\n",
    "   - II.5 Topographic Error (TE)\n",
    "   - II.6 LR and σ Schedulers\n",
    "   - II.7 Advanced Training Loop with Schedulers\n",
    "   - II.8 Revised Plan\n",
    "\n",
    "III. WEIGHTS INITIALIZATION METHODS\n",
    "\n",
    "   - III.1 Random Initialization\n",
    "   - III.2 PCA Initialization\n",
    "\n",
    "IV. ADDITIONAL VISUALIZATIONS\n",
    "\n",
    "V. REFACTORING\n",
    "\n",
    "   - V.1 Class Implementation\n",
    "   - V.2 README.md"
   ]
  },
  {
   "cell_type": "markdown",
   "metadata": {},
   "source": [
    "**AI Prompt**\n",
    "\n",
    "I want to create an Python package implementing a Self Organizing Map. Several Python packages already exist but I would prefer creating it from scratch to be sure to understand every single piece. \n",
    "\n",
    "The SOM implementation will be flexible and accept different distance metrics, learning rate and gaussian radius schedulers and assess SOM's quality using relevant metrics.\n",
    "\n",
    "I want to comply with Polya's **\"How to solve it framework\"**.\n",
    "\n",
    "I want also to make sure it uses `numpy` vectorization everywhere possible and use `fastcore`.\n",
    "\n",
    "Refactoring as `class` should come at the end."
   ]
  },
  {
   "cell_type": "markdown",
   "metadata": {},
   "source": [
    ":::{.callout-tip}\n",
    "\n",
    "**AI Response** \n",
    "\n",
    "I'll help you create a Self-Organizing Map (SOM) implementation from scratch. Let's follow Polya's framework step by step.\n",
    "\n",
    "1. First, let's understand the problem:\n",
    "   - Can you tell me your current familiarity with SOMs and what specific aspects you want to focus on?\n",
    "   - Are you comfortable with numpy vectorization?\n",
    "   - Do you have experience with fastcore?\n",
    "\n",
    "This will help me tailor the guidance to your needs and ensure we build on your existing knowledge.\n",
    "\n",
    "Also, before we proceed, could you outline which distance metrics and quality assessment measures you're particularly interested in implementing? This will help us plan the architecture effectively.\n",
    ":::"
   ]
  },
  {
   "cell_type": "markdown",
   "metadata": {},
   "source": [
    "**AI Prompt**\n",
    "\n",
    "Let me try reformulating the SOM's approach and tell me if my understanding is correct.\n",
    "\n",
    "We have a grid of (random - but could be informed by data itself) weights (same dimension of the input).\n",
    "\n",
    "For each sample of our training set, we want to find the weight most similar to the input (bmu - best matching unit in SOM's jargon).\n",
    "\n",
    "Once found we define a neighorhood function that essentially equal to 1 at the grid index of the bmu and decays/vanishes as further away from the bmu, as parametrized by a gaussian function with parameter sigma (to define a notion of \"locality\").\n",
    "\n",
    "Then the objective is to \"pull\" all weights toward this individual input but proportionaly to this neighborhood function.\n",
    "It means that we take the difference between the given input and the weights, and update the weights according to those differences and the neighborhood function.\n",
    "\n",
    "A learning rate parameter also allow to specifify how quickly we want to update the weights for each sample.\n",
    "\n",
    "What do you think? Did I capture the key concepts?"
   ]
  },
  {
   "cell_type": "markdown",
   "metadata": {},
   "source": [
    ":::{.callout-tip}\n",
    "\n",
    "**AI Response** \n",
    "\n",
    "\n",
    "Yes, that's an excellent and accurate description of the SOM algorithm! Let me highlight the key components you've identified:\n",
    "\n",
    "1. Grid of weights (prototype vectors)\n",
    "   - Initialize randomly (or with PCA/other informed methods)\n",
    "   - Same dimensionality as input data\n",
    "\n",
    "2. Best Matching Unit (BMU)\n",
    "   - For each input, find closest weight vector\n",
    "   - Requires distance metric (commonly Euclidean)\n",
    "\n",
    "3. Neighborhood function\n",
    "   - Gaussian decay from BMU location\n",
    "   - Controlled by sigma parameter (radius)\n",
    "   - Defines \"influence zone\" on grid\n",
    "\n",
    "4. Weight update rule\n",
    "   - Pull weights towards input\n",
    "   - Strength determined by:\n",
    "     * Learning rate (overall step size)\n",
    "     * Neighborhood function (locality-based influence)\n",
    "\n",
    "Would you like to start breaking this down into smaller implementation steps? We could begin by focusing on one of these components. Which part would you like to tackle first?\n",
    ":::"
   ]
  },
  {
   "cell_type": "markdown",
   "metadata": {},
   "source": [
    "# Devising plan"
   ]
  },
  {
   "cell_type": "markdown",
   "metadata": {},
   "source": [
    "**AI Prompt**\n",
    "\n",
    "\n",
    "Ok let's devise a plan that I can use to further monitor my progress along my implementation."
   ]
  },
  {
   "cell_type": "markdown",
   "metadata": {},
   "source": [
    ":::{.callout-tip}\n",
    "\n",
    "**AI Response** \n",
    "\n",
    "\n",
    "Following Polya's framework, let's create a structured plan. Here's a suggested breakdown - please let me know if you'd like to modify any part:\n",
    "\n",
    "1. Core SOM Components\n",
    "   - Initialize weight grid\n",
    "   - Implement distance metrics (Euclidean first, others later)\n",
    "   - Find BMU function\n",
    "   - Create neighborhood function\n",
    "   - Implement weight update rule\n",
    "\n",
    "2. Training Loop\n",
    "   - Single sample update\n",
    "   - Full epoch processing\n",
    "   - Learning rate scheduling\n",
    "   - Radius (sigma) scheduling\n",
    "\n",
    "3. Quality Metrics\n",
    "   - Quantization error\n",
    "   - Topographic error\n",
    "   - Other quality measures\n",
    "\n",
    "4. Utilities & Visualization\n",
    "   - Grid visualization\n",
    "   - U-Matrix\n",
    "   - Component planes\n",
    "\n",
    "5. Refactoring\n",
    "   - Create class structure\n",
    "   - Add flexibility for different metrics/schedulers\n",
    "   - Documentation\n",
    "\n",
    "Would you like to refine this plan? We can discuss what specific functionality you want in each component before starting the implementation.\n",
    ":::"
   ]
  },
  {
   "cell_type": "markdown",
   "metadata": {},
   "source": [
    "**AI Prompt**\n",
    "\n",
    "\n",
    "It sounds perfect! Let's carry out the plan."
   ]
  },
  {
   "cell_type": "markdown",
   "metadata": {},
   "source": [
    ":::{.callout-tip}\n",
    "\n",
    "**AI Response** \n",
    "\n",
    "\n",
    "Great! Let's start with the first component: initializing the weight grid. \n",
    "\n",
    "Before we write any code, we need to decide:\n",
    "1. What parameters will we need for initialization?\n",
    "   - Grid dimensions (e.g., n_rows, n_cols)\n",
    "   - Input data dimension\n",
    "   - Initialization method (random, PCA-based, etc.)\n",
    "\n",
    "Would you like to start implementing the weight grid initialization? What initialization method would you prefer to begin with?\n",
    "\n",
    "Let me know your preferences, and we can discuss how to make it efficient using numpy vectorization.\n",
    ":::"
   ]
  },
  {
   "cell_type": "markdown",
   "metadata": {},
   "source": [
    "# Carrying out the plan"
   ]
  },
  {
   "cell_type": "markdown",
   "metadata": {},
   "source": [
    "## I. CORE SOM COMPONENTS"
   ]
  },
  {
   "cell_type": "markdown",
   "metadata": {},
   "source": [
    "### I.1 Weight grid"
   ]
  },
  {
   "cell_type": "code",
   "execution_count": null,
   "metadata": {},
   "outputs": [
    {
     "data": {
      "text/plain": [
       "((3, 3),\n",
       " array([[-1.361616  , -0.47049376, -0.95493151],\n",
       "        [ 1.41949963, -0.01988135, -1.88250715],\n",
       "        [-0.41864399, -1.87207718, -0.51610482]]))"
      ]
     },
     "execution_count": null,
     "metadata": {},
     "output_type": "execute_result"
    }
   ],
   "source": [
    "import numpy as np\n",
    "grid_sz = (3,3)\n",
    "ws = np.random.randn(*grid_sz)\n",
    "ws.shape, ws\n",
    "ws.shape, ws"
   ]
  },
  {
   "cell_type": "code",
   "execution_count": null,
   "metadata": {},
   "outputs": [
    {
     "data": {
      "image/png": "[encoded data removed]",
      "text/plain": [
       "<Figure size 300x200 with 2 Axes>"
      ]
     },
     "metadata": {
      "image/png": {
       "height": 202,
       "width": 297
      }
     },
     "output_type": "display_data"
    }
   ],
   "source": [
    "import matplotlib.pyplot as plt\n",
    "\n",
    "plt.figure(figsize=(3, 2))  # Compact figure size\n",
    "plt.rcParams.update({'font.size': 6})  # Base font size\n",
    "\n",
    "# Create meshgrid for plotting\n",
    "x, y = np.meshgrid(range(grid_sz[0]), range(grid_sz[1]))\n",
    "\n",
    "plt.scatter(x, y, c=ws, s=100, cmap='viridis')  \n",
    "plt.colorbar(label='Weight values')\n",
    "\n",
    "plt.grid(True)\n",
    "plt.title('2D SOM Grid Initial Weights', fontsize=6)\n",
    "plt.xlabel('X coordinate', fontsize=6)\n",
    "plt.ylabel('Y coordinate', fontsize=6)\n",
    "plt.xticks(fontsize=6)\n",
    "plt.yticks(fontsize=6)\n",
    "\n",
    "plt.tight_layout()\n",
    "plt.show()"
   ]
  },
  {
   "cell_type": "markdown",
   "metadata": {},
   "source": [
    "### I.2 Distance"
   ]
  },
  {
   "cell_type": "code",
   "execution_count": null,
   "metadata": {},
   "outputs": [
    {
     "data": {
      "text/plain": [
       "(3, 3, 200)"
      ]
     },
     "execution_count": null,
     "metadata": {},
     "output_type": "execute_result"
    }
   ],
   "source": [
    "ws = np.random.randn(3,3,200)\n",
    "ws.shape"
   ]
  },
  {
   "cell_type": "code",
   "execution_count": null,
   "metadata": {},
   "outputs": [
    {
     "data": {
      "text/plain": [
       "(100, 200)"
      ]
     },
     "execution_count": null,
     "metadata": {},
     "output_type": "execute_result"
    }
   ],
   "source": [
    "X = np.random.randn(100,200)\n",
    "X.shape"
   ]
  },
  {
   "cell_type": "code",
   "execution_count": null,
   "metadata": {},
   "outputs": [
    {
     "data": {
      "text/plain": [
       "(200,)"
      ]
     },
     "execution_count": null,
     "metadata": {},
     "output_type": "execute_result"
    }
   ],
   "source": [
    "X[0].shape"
   ]
  },
  {
   "cell_type": "markdown",
   "metadata": {},
   "source": [
    "**AI Prompt**\n",
    "\n",
    "\n",
    "Each node of the grid (here 3x3) has a weight of 200 dimensions in our toy example. How to take the euclidean distance between each weight and a 200-dimensional input?"
   ]
  },
  {
   "cell_type": "markdown",
   "metadata": {},
   "source": [
    ":::{.callout-tip}\n",
    "\n",
    "**AI Response** \n",
    "\n",
    "\n",
    "Let's think about this vectorized approach:\n",
    "\n",
    "1. For Euclidean distance, we need √(Σ(x-w)²) between:\n",
    "   - One input vector (1, 200)\n",
    "   - All weight vectors (3, 3, 200)\n",
    "\n",
    "We have two main vectorized approaches we could use:\n",
    "1. Using numpy broadcasting and np.sum\n",
    "2. Using scipy's cdist (which handles this specific case)\n",
    "\n",
    "Would you like to try implementing one of these approaches? I can guide you through the numpy broadcasting solution first if you'd like, or we can discuss the trade-offs between the two approaches.\n",
    "\n",
    "Which would you prefer to explore first?\n",
    ":::"
   ]
  },
  {
   "cell_type": "markdown",
   "metadata": {},
   "source": [
    "`Numpy` will broadcast the 1-dimensioal input vector of shape `(200,)` to `(3,3,200)` to align it to the weights shape.\n",
    "We want the distance between each unit (200-dimensional in our toy example) and the given input.\n",
    "There are two ways to do so. Either using native `numpy` or ..."
   ]
  },
  {
   "cell_type": "code",
   "execution_count": null,
   "metadata": {},
   "outputs": [
    {
     "data": {
      "text/plain": [
       "(3, 3, 200)"
      ]
     },
     "execution_count": null,
     "metadata": {},
     "output_type": "execute_result"
    }
   ],
   "source": [
    "# Element-wise distance between each `(200,)` node/weights and the input.\n",
    "(X[0]-ws).shape"
   ]
  },
  {
   "cell_type": "code",
   "execution_count": null,
   "metadata": {},
   "outputs": [
    {
     "data": {
      "text/plain": [
       "array([[17.91644487, 19.40803926, 18.10014622],\n",
       "       [18.92468523, 19.64872772, 21.76170238],\n",
       "       [21.98737528, 20.59933278, 19.29730677]])"
      ]
     },
     "execution_count": null,
     "metadata": {},
     "output_type": "execute_result"
    }
   ],
   "source": [
    "# Now we take the root square of the square distance element-wise and take their sum along the last dimension (200)\n",
    "np.sqrt(np.sum((X[0]-ws)**2, axis=-1))"
   ]
  },
  {
   "cell_type": "code",
   "execution_count": null,
   "metadata": {},
   "outputs": [
    {
     "data": {
      "text/plain": [
       "array([[17.91644487, 19.40803926, 18.10014622],\n",
       "       [18.92468523, 19.64872772, 21.76170238],\n",
       "       [21.98737528, 20.59933278, 19.29730677]])"
      ]
     },
     "execution_count": null,
     "metadata": {},
     "output_type": "execute_result"
    }
   ],
   "source": [
    "# We can do it also using numpy dedicated method\n",
    "np.linalg.norm(ws-X[0], axis=-1)"
   ]
  },
  {
   "cell_type": "code",
   "execution_count": null,
   "metadata": {},
   "outputs": [
    {
     "data": {
      "text/plain": [
       "array([[17.91644487, 19.40803926, 18.10014622],\n",
       "       [18.92468523, 19.64872772, 21.76170238],\n",
       "       [21.98737528, 20.59933278, 19.29730677]])"
      ]
     },
     "execution_count": null,
     "metadata": {},
     "output_type": "execute_result"
    }
   ],
   "source": [
    "# This is to be injected into the final class for further flexibility\n",
    "dist_fn = lambda x, ws: np.linalg.norm(ws-x, axis=-1)\n",
    "dist_fn(X[0], ws)"
   ]
  },
  {
   "cell_type": "markdown",
   "metadata": {},
   "source": [
    "### I.3 BMU (Best Matching Unit)"
   ]
  },
  {
   "cell_type": "markdown",
   "metadata": {},
   "source": [
    "**AI Prompt**\n",
    "\n",
    "\n",
    "I'd like to find the closest unit/node from a given input and want to return its index."
   ]
  },
  {
   "cell_type": "markdown",
   "metadata": {},
   "source": [
    ":::{.callout-tip}\n",
    "\n",
    "**AI Response** \n",
    "\n",
    "\n",
    "To find the BMU index, we need to:\n",
    "1. Get the distances (which we already calculated)\n",
    "2. Find the index of the minimum distance in our 2D grid\n",
    "\n",
    "We can use `np.argmin()`, but since we have a 2D grid, we'll need to consider how to handle the indices. Would you like to try implementing this yourself, or would you like me to suggest an approach?\n",
    "\n",
    "A key consideration is whether you want:\n",
    "- A flat index (single number)\n",
    "- Grid coordinates (row, col)\n",
    "\n",
    "Which format would be more useful for your implementation?\n",
    ":::"
   ]
  },
  {
   "cell_type": "markdown",
   "metadata": {},
   "source": [
    "**AI Prompt**\n",
    "\n",
    "\n",
    "I want to find the grid coordinates but `np.argmin()` seems to work only for flatten arrays."
   ]
  },
  {
   "cell_type": "markdown",
   "metadata": {},
   "source": [
    ":::{.callout-tip}\n",
    "\n",
    "**AI Response** \n",
    "\n",
    "\n",
    "Ah yes! For 2D coordinates, we can use `np.unravel_index()` together with `np.argmin()`. This combination will:\n",
    "\n",
    "1. `np.argmin()` finds the index in the flattened array\n",
    "2. `np.unravel_index()` converts this flat index back to grid coordinates\n",
    "\n",
    "Would you like to try implementing this yourself using these functions? I can provide more details about how `np.unravel_index()` works if needed.\n",
    ":::"
   ]
  },
  {
   "cell_type": "code",
   "execution_count": null,
   "metadata": {},
   "outputs": [
    {
     "name": "stdout",
     "output_type": "stream",
     "text": [
      "0.5 \n",
      " [[27.38521073 16.09891829]\n",
      " [15.54144978 20.16819721]]\n"
     ]
    },
    {
     "data": {
      "text/plain": [
       "2"
      ]
     },
     "execution_count": null,
     "metadata": {},
     "output_type": "execute_result"
    }
   ],
   "source": [
    "np.random.seed(1)\n",
    "ws = np.random.randn(2,2,1)\n",
    "x = np.array(0.5)\n",
    "d = dist_fn(X[0], ws)\n",
    "print(x, '\\n', d)\n",
    "np.argmin(d)"
   ]
  },
  {
   "cell_type": "code",
   "execution_count": null,
   "metadata": {},
   "outputs": [
    {
     "data": {
      "text/plain": [
       "(1, 0)"
      ]
     },
     "execution_count": null,
     "metadata": {},
     "output_type": "execute_result"
    }
   ],
   "source": [
    "np.unravel_index(2,shape=ws.shape[:2])"
   ]
  },
  {
   "cell_type": "markdown",
   "metadata": {},
   "source": [
    "So, finding the grid index of the smallest distance is as simple as taking the `np.argmin` (internally flattening the array) and then using `np.unravel_index` with grid shape specified:"
   ]
  },
  {
   "cell_type": "code",
   "execution_count": null,
   "metadata": {},
   "outputs": [
    {
     "data": {
      "text/plain": [
       "(1, 0)"
      ]
     },
     "execution_count": null,
     "metadata": {},
     "output_type": "execute_result"
    }
   ],
   "source": [
    "def bmu_coords(dists, sz):\n",
    "    return np.unravel_index(np.argmin(dists), sz)\n",
    "\n",
    "bmu_coords(dist_fn(X[0], ws), ws.shape[:2])"
   ]
  },
  {
   "cell_type": "markdown",
   "metadata": {},
   "source": [
    "### I.4 Create neighborhood function"
   ]
  },
  {
   "cell_type": "markdown",
   "metadata": {},
   "source": [
    "**AI Prompt**\n",
    "\n",
    "\n",
    "Let me try to recap and reformulate the role of the neighborhood function with my own words. The weights update will be carried out according to the following logic:\n",
    "1. we first get the distance between a given input and all units/nodes\n",
    "2. the closest unit is called the bmu\n",
    "3. Each unit will be then updated as a function of:\n",
    "    - its distance from the given input\n",
    "    - but also of its \"decayed\" distance of its grid index from the bmu\n",
    "    - by \"decayed\" we mean that using a gaussian function parametrized by a \"radius of influence\" or a \"degree of locality\", we update the units close from the bmu more than the distant one.\n",
    "\n",
    "Hence the neighborhood function, should return for a given node a coefficient that will be used to further weigh the weights update. Last, it is important to note that this update will be further parametrized by a learning rate `lr`.\n",
    "\n",
    "Is my thinking correct?"
   ]
  },
  {
   "cell_type": "markdown",
   "metadata": {},
   "source": [
    ":::{.callout-tip}\n",
    "\n",
    "**AI Response** \n",
    "\n",
    "\n",
    "Yes, your understanding is excellent! You've captured all the key aspects of the neighborhood function and its role in weight updates. Let me confirm each point:\n",
    "\n",
    "1. ✓ Calculate distances & find BMU\n",
    "2. ✓ For each unit, weight update depends on:\n",
    "   - Distance from input (the error term)\n",
    "   - Distance from BMU on the grid (neighborhood influence)\n",
    "   - Gaussian decay based on grid distance (controlled by radius σ)\n",
    "3. ✓ Final update magnitude determined by:\n",
    "   - Neighborhood coefficient (from gaussian)\n",
    "   - Learning rate (lr)\n",
    "\n",
    "Would you like to start implementing the neighborhood function? We'll need to:\n",
    "1. Calculate grid distances from BMU to all nodes\n",
    "2. Apply gaussian decay to these distances\n",
    "\n",
    "Which part would you like to tackle first?\n",
    ":::"
   ]
  },
  {
   "cell_type": "code",
   "execution_count": null,
   "metadata": {},
   "outputs": [],
   "source": [
    "ws = np.random.randn(3,4,1)\n",
    "bmu_idx = (2,2)"
   ]
  },
  {
   "cell_type": "code",
   "execution_count": null,
   "metadata": {},
   "outputs": [
    {
     "data": {
      "text/plain": [
       "(1, 4)"
      ]
     },
     "execution_count": null,
     "metadata": {},
     "output_type": "execute_result"
    }
   ],
   "source": [
    "# 1 row, 3 cols\n",
    "a = np.array([\n",
    "    [1,2,3,4]\n",
    "    ])\n",
    "a.shape"
   ]
  },
  {
   "cell_type": "code",
   "execution_count": null,
   "metadata": {},
   "outputs": [
    {
     "data": {
      "text/plain": [
       "(3, 1)"
      ]
     },
     "execution_count": null,
     "metadata": {},
     "output_type": "execute_result"
    }
   ],
   "source": [
    "# 3 rows, 1 col\n",
    "b = np.array([\n",
    "    [10],\n",
    "    [20],\n",
    "    [30]\n",
    "    ])\n",
    "b.shape"
   ]
  },
  {
   "cell_type": "code",
   "execution_count": null,
   "metadata": {},
   "outputs": [],
   "source": [
    "# (3, 1) + (1, 4) -> (3,4)\n",
    "# or (1, 4) + (3, 1) -> (3, 4)"
   ]
  },
  {
   "cell_type": "code",
   "execution_count": null,
   "metadata": {},
   "outputs": [
    {
     "data": {
      "text/plain": [
       "array([[11, 12, 13, 14],\n",
       "       [21, 22, 23, 24],\n",
       "       [31, 32, 33, 34]])"
      ]
     },
     "execution_count": null,
     "metadata": {},
     "output_type": "execute_result"
    }
   ],
   "source": [
    "a + b"
   ]
  },
  {
   "cell_type": "code",
   "execution_count": null,
   "metadata": {},
   "outputs": [
    {
     "data": {
      "text/plain": [
       "array([[11, 12, 13, 14],\n",
       "       [21, 22, 23, 24],\n",
       "       [31, 32, 33, 34]])"
      ]
     },
     "execution_count": null,
     "metadata": {},
     "output_type": "execute_result"
    }
   ],
   "source": [
    "b + a"
   ]
  },
  {
   "cell_type": "code",
   "execution_count": null,
   "metadata": {},
   "outputs": [
    {
     "data": {
      "text/plain": [
       "(2, 2)"
      ]
     },
     "execution_count": null,
     "metadata": {},
     "output_type": "execute_result"
    }
   ],
   "source": [
    "bmu_idx"
   ]
  },
  {
   "cell_type": "markdown",
   "metadata": {},
   "source": [
    "**AI Prompt**\n",
    "\n",
    "\n",
    "From the `(3,4)` shape I'd like to create two numpy arrays: one of shape (1,4) with the following values [0,1,2,3] (the rows idx) and one of shape (3,1) with the following values [0,1,2]. From those arrays, I then want to calculate the delta x and delta y from the bmu coordinates to eventually get a neighborhood function then I'd further weigh by a gaussian kernel. Can you guide me?"
   ]
  },
  {
   "cell_type": "markdown",
   "metadata": {},
   "source": [
    ":::{.callout-tip}\n",
    "\n",
    "**AI Response** \n",
    "\n",
    "\n",
    "I'll help you step by step:\n",
    "\n",
    "1. First, let's create those two arrays using `np.arange()`:\n",
    "```python\n",
    "x_coords = np.arange(4).reshape(1, 4)  # [0,1,2,3] shape (1,4)\n",
    "y_coords = np.arange(3).reshape(3, 1)  # [0,1,2] shape (3,1)\n",
    "```\n",
    "\n",
    "Would you like to try this first and then we can move on to calculating the deltas from the BMU coordinates? \n",
    "\n",
    "The next step would be subtracting the BMU's x and y coordinates from these arrays. Would you like to try that yourself, or would you like more guidance?\n",
    ":::"
   ]
  },
  {
   "cell_type": "markdown",
   "metadata": {},
   "source": [
    "**AI Prompt**\n",
    "\n",
    "\n",
    "Isn't there a more straightforward to get those x and y coords directly from the shape (3,4) using a dedicated numpy method?"
   ]
  },
  {
   "cell_type": "markdown",
   "metadata": {},
   "source": [
    ":::{.callout-tip}\n",
    "\n",
    "**AI Response** \n",
    "\n",
    "\n",
    "Ah yes! You can use `np.meshgrid()` to directly generate coordinate arrays from the shape. This function is specifically designed for creating coordinate matrices. Would you like to explore how to use `np.meshgrid()` for this purpose?\n",
    "\n",
    "Let me know if you want to try it yourself first, or if you'd like me to show you how it works with your (3,4) shape example.\n",
    ":::"
   ]
  },
  {
   "cell_type": "markdown",
   "metadata": {},
   "source": [
    "**AI Prompt**\n",
    "\n",
    "\n",
    "I've heard about this method: `np.ogrid[0:grid_sz[0], 0:grid_sz[1]]` Don't you think it would be more convenient?"
   ]
  },
  {
   "cell_type": "markdown",
   "metadata": {},
   "source": [
    ":::{.callout-tip}\n",
    "\n",
    "**AI Response** \n",
    "\n",
    "\n",
    "Yes, absolutely! `np.ogrid` is a more concise and elegant solution for this case. It creates an \"open mesh\" which is exactly what we need - two arrays suitable for broadcasting, without actually storing the full mesh in memory. \n",
    "\n",
    "Would you like to try using `np.ogrid` to:\n",
    "1. Create the coordinate arrays\n",
    "2. Calculate the deltas from the BMU position\n",
    "\n",
    "Which step would you like to tackle first?\n",
    ":::"
   ]
  },
  {
   "cell_type": "code",
   "execution_count": null,
   "metadata": {},
   "outputs": [
    {
     "data": {
      "text/plain": [
       "(array([[0],\n",
       "        [1],\n",
       "        [2]]),\n",
       " array([[0, 1, 2, 3]]))"
      ]
     },
     "execution_count": null,
     "metadata": {},
     "output_type": "execute_result"
    }
   ],
   "source": [
    "x_coords, y_coords = np.ogrid[0:ws.shape[0], 0:ws.shape[1]]\n",
    "x_coords, y_coords"
   ]
  },
  {
   "cell_type": "code",
   "execution_count": null,
   "metadata": {},
   "outputs": [
    {
     "data": {
      "text/plain": [
       "((2, 2),\n",
       " array([[2],\n",
       "        [1],\n",
       "        [0]]))"
      ]
     },
     "execution_count": null,
     "metadata": {},
     "output_type": "execute_result"
    }
   ],
   "source": [
    "bmu_idx, bmu_idx[0] - x_coords"
   ]
  },
  {
   "cell_type": "code",
   "execution_count": null,
   "metadata": {},
   "outputs": [
    {
     "data": {
      "text/plain": [
       "array([[ 2,  1,  0, -1]])"
      ]
     },
     "execution_count": null,
     "metadata": {},
     "output_type": "execute_result"
    }
   ],
   "source": [
    "bmu_idx[1] - y_coords"
   ]
  },
  {
   "cell_type": "code",
   "execution_count": null,
   "metadata": {},
   "outputs": [
    {
     "data": {
      "text/plain": [
       "array([[8, 5, 4, 5],\n",
       "       [5, 2, 1, 2],\n",
       "       [4, 1, 0, 1]])"
      ]
     },
     "execution_count": null,
     "metadata": {},
     "output_type": "execute_result"
    }
   ],
   "source": [
    "(bmu_idx[0] - x_coords)**2 + (bmu_idx[1] - y_coords)**2"
   ]
  },
  {
   "cell_type": "code",
   "execution_count": null,
   "metadata": {},
   "outputs": [
    {
     "data": {
      "text/plain": [
       "array([[8, 5, 4, 5],\n",
       "       [5, 2, 1, 2],\n",
       "       [4, 1, 0, 1]])"
      ]
     },
     "execution_count": null,
     "metadata": {},
     "output_type": "execute_result"
    }
   ],
   "source": [
    "def grid_dist2(bmu_idx, grid_sz):\n",
    "    rows_idx, cols_idx = np.ogrid[0:grid_sz[0], 0:grid_sz[1]]\n",
    "    return (bmu_idx[0] - rows_idx)**2 + (bmu_idx[1] - cols_idx)**2\n",
    "\n",
    "grid_dist2(bmu_idx, ws.shape[:2])"
   ]
  },
  {
   "cell_type": "markdown",
   "metadata": {},
   "source": [
    "**AI Prompt**\n",
    "\n",
    "\n",
    "I think that now suffices to pass this array to a Gaussian function to create our neighborhood function, don't you think?"
   ]
  },
  {
   "cell_type": "markdown",
   "metadata": {},
   "source": [
    ":::{.callout-tip}\n",
    "\n",
    "**AI Response** \n",
    "\n",
    "\n",
    "Yes, exactly! We can create a Gaussian decay function using `np.exp(-dist²/(2σ²))`, where:\n",
    "- dist² is what we just calculated\n",
    "- σ (sigma) is our radius parameter that controls the spread of the neighborhood\n",
    "\n",
    "Would you like to try implementing this Gaussian function? We'll need to:\n",
    "1. Take our squared distances\n",
    "2. Apply the Gaussian formula with a sigma parameter\n",
    "\n",
    "Would you like to try this yourself, or would you like some guidance on the implementation?\n",
    ":::"
   ]
  },
  {
   "cell_type": "code",
   "execution_count": null,
   "metadata": {},
   "outputs": [
    {
     "data": {
      "text/plain": [
       "array([[0.01831564, 0.082085  , 0.13533528, 0.082085  ],\n",
       "       [0.082085  , 0.36787944, 0.60653066, 0.36787944],\n",
       "       [0.13533528, 0.60653066, 1.        , 0.60653066]])"
      ]
     },
     "execution_count": null,
     "metadata": {},
     "output_type": "execute_result"
    }
   ],
   "source": [
    "gaussian_fn = lambda dists, sigma: np.exp(-dists/(2*sigma**2))\n",
    "gaussian_fn(grid_dist2(bmu_idx, ws.shape[:2]), 1)"
   ]
  },
  {
   "cell_type": "code",
   "execution_count": null,
   "metadata": {},
   "outputs": [
    {
     "data": {
      "text/plain": [
       "array([[0.01831564, 0.082085  , 0.13533528, 0.082085  ],\n",
       "       [0.082085  , 0.36787944, 0.60653066, 0.36787944],\n",
       "       [0.13533528, 0.60653066, 1.        , 0.60653066]])"
      ]
     },
     "execution_count": null,
     "metadata": {},
     "output_type": "execute_result"
    }
   ],
   "source": [
    "from functools import partial\n",
    "def neighborhood_fn(dists, kernel_fn):\n",
    "    return kernel_fn(dists)\n",
    "    \n",
    "dists = grid_dist2(bmu_idx, ws.shape[:2])\n",
    "kernel_fn = partial(gaussian_fn, sigma=1)\n",
    "neighborhood_fn(dists, kernel_fn)"
   ]
  },
  {
   "cell_type": "markdown",
   "metadata": {},
   "source": [
    "### I.5 Implement weight update rule"
   ]
  },
  {
   "cell_type": "markdown",
   "metadata": {},
   "source": [
    "**AI Prompt**\n",
    "\n",
    "\n",
    "Let me reformulate the weight update rule. Given an input, the SOM weights/nodes/units will be updated as follows:\n",
    "1. compute the distance between the input and all weights/nodes/units, `d`\n",
    "2. compute the distance from the bmu position from all other grids/weights position `d_grid``\n",
    "3. `w_new = w + lr*d*neighborhood_fn(d_grid) where lr is the learning rate\n",
    "\n",
    "In summary at every iteration (new sample), we pull all weights and their surroundings (as defined by the neighborhood function) toward the input (the bmu weights being the most affected).\n",
    "\n",
    "Am I right?"
   ]
  },
  {
   "cell_type": "markdown",
   "metadata": {},
   "source": [
    ":::{.callout-tip}\n",
    "\n",
    "**AI Response** \n",
    "\n",
    "\n",
    "Yes, your understanding is perfect! Let me break down your correct formulation:\n",
    "\n",
    "For each input sample:\n",
    "1. ✓ Calculate distances between input and all weights\n",
    "2. ✓ Find BMU (closest weight)\n",
    "3. ✓ Calculate grid distances from BMU position\n",
    "4. ✓ Apply neighborhood function to grid distances\n",
    "5. ✓ Update weights using the formula:\n",
    "   `w_new = w + lr * (input - w) * neighborhood_fn(d_grid)`\n",
    "\n",
    "One small clarification to your formula: the `d` term should be `(input - w)`, representing the direction and magnitude of the update.\n",
    "\n",
    "Would you like to try implementing this update rule? We can break it down into steps if you'd like.\n",
    ":::\n"
   ]
  },
  {
   "cell_type": "markdown",
   "metadata": {},
   "source": [
    "Let's do it step-by-step while checking shapes \"compatibility\" for numpy broadcasting."
   ]
  },
  {
   "cell_type": "code",
   "execution_count": null,
   "metadata": {},
   "outputs": [
    {
     "data": {
      "text/plain": [
       "(2, 2, 3)"
      ]
     },
     "execution_count": null,
     "metadata": {},
     "output_type": "execute_result"
    }
   ],
   "source": [
    "ws = np.random.randn(2,2,3)\n",
    "x = np.array([0.5, 0.1, 0.2])\n",
    "(x-ws).shape"
   ]
  },
  {
   "cell_type": "code",
   "execution_count": null,
   "metadata": {},
   "outputs": [
    {
     "data": {
      "text/plain": [
       "(2, 2)"
      ]
     },
     "execution_count": null,
     "metadata": {},
     "output_type": "execute_result"
    }
   ],
   "source": [
    "# Define kernel function with wanted parameter\n",
    "kernel_fn = partial(gaussian_fn, sigma=1)\n",
    "# Get bmu position\n",
    "bmu_idx = bmu_coords(dist_fn(x, ws), ws.shape[:2])\n",
    "# Compute neighborhood weights for each unit\n",
    "nbh = neighborhood_fn(grid_dist2(bmu_idx, ws.shape[:2]), kernel_fn)\n",
    "nbh.shape"
   ]
  },
  {
   "cell_type": "markdown",
   "metadata": {},
   "source": [
    "The neighborhood will weigh eacg node's update give its distance from the bmu and provided kernel functions. So we want an element-wised multiplication between this `2x2`array and the first two dimensions of the (x-ws) differences. Hence to be able to use numpy broadasting we have to add an additional trailing dimension to the neighborhood."
   ]
  },
  {
   "cell_type": "code",
   "execution_count": null,
   "metadata": {},
   "outputs": [
    {
     "data": {
      "text/plain": [
       "(2, 2, 1)"
      ]
     },
     "execution_count": null,
     "metadata": {},
     "output_type": "execute_result"
    }
   ],
   "source": [
    "nbh[..., np.newaxis].shape"
   ]
  },
  {
   "cell_type": "code",
   "execution_count": null,
   "metadata": {},
   "outputs": [
    {
     "data": {
      "text/plain": [
       "(2, 2, 3)"
      ]
     },
     "execution_count": null,
     "metadata": {},
     "output_type": "execute_result"
    }
   ],
   "source": [
    "(nbh[..., np.newaxis] * (x-ws)).shape"
   ]
  },
  {
   "cell_type": "markdown",
   "metadata": {},
   "source": [
    "We now have all components required to define the update function."
   ]
  },
  {
   "cell_type": "code",
   "execution_count": null,
   "metadata": {},
   "outputs": [
    {
     "data": {
      "text/plain": [
       "array([[[ 0.01460216,  0.51918831, -0.25327326],\n",
       "        [ 0.14715498,  0.03288394, -0.02929718]],\n",
       "\n",
       "       [[ 0.03915056,  0.2982822 , -0.13636204],\n",
       "        [ 0.5       ,  0.5       ,  0.5       ]]])"
      ]
     },
     "execution_count": null,
     "metadata": {},
     "output_type": "execute_result"
    }
   ],
   "source": [
    "lr = 1\n",
    "ws = np.random.randn(2,2,3)\n",
    "x = np.array(0.5)\n",
    "\n",
    "d = dist_fn(x, ws)\n",
    "bmu_idx = bmu_coords(d, ws.shape[:2])\n",
    "d_grid = grid_dist2(bmu_idx, ws.shape[:2])\n",
    "kernel_fn = partial(gaussian_fn, sigma=1)\n",
    "nbh = neighborhood_fn(grid_dist2(bmu_idx, ws.shape[:2]), kernel_fn)\n",
    "\n",
    "ws + lr * (nbh[..., np.newaxis] * (x-ws))"
   ]
  },
  {
   "cell_type": "code",
   "execution_count": null,
   "metadata": {},
   "outputs": [
    {
     "data": {
      "text/plain": [
       "array([[[ 0.06267652, -0.52430057, -0.39871823],\n",
       "        [ 0.96919433,  0.08064436, -0.12933212]],\n",
       "\n",
       "       [[ 0.37838472,  0.88703907,  0.168585  ],\n",
       "        [ 0.5       ,  0.1       ,  0.2       ]]])"
      ]
     },
     "execution_count": null,
     "metadata": {},
     "output_type": "execute_result"
    }
   ],
   "source": [
    "def update(x, ws, dist_fn, kernel_fn, lr=1):\n",
    "    bmu_idx = bmu_coords(dist_fn(x, ws), ws.shape[:2])\n",
    "    d_grid = grid_dist2(bmu_idx, ws.shape[:2])\n",
    "    nbh = neighborhood_fn(grid_dist2(bmu_idx, ws.shape[:2]), kernel_fn)\n",
    "    return ws + lr * nbh[..., np.newaxis] * (x-ws)\n",
    "\n",
    "ws = np.random.randn(2,2,3)\n",
    "x = np.array([0.5, 0.1, 0.2])\n",
    "kernel_fn = partial(gaussian_fn, sigma=1)\n",
    "update(x, ws, dist_fn, kernel_fn, lr=1)"
   ]
  },
  {
   "cell_type": "code",
   "execution_count": null,
   "metadata": {},
   "outputs": [
    {
     "data": {
      "text/plain": [
       "array([[1, 2],\n",
       "       [3, 4]])"
      ]
     },
     "execution_count": null,
     "metadata": {},
     "output_type": "execute_result"
    }
   ],
   "source": [
    "ws = np.array([\n",
    "    [[1], [2]], \n",
    "    [[3], [4]\n",
    "    ]])\n",
    "np.squeeze(ws) # squeeze the trailing dim for clearer printing"
   ]
  },
  {
   "cell_type": "code",
   "execution_count": null,
   "metadata": {},
   "outputs": [
    {
     "data": {
      "text/plain": [
       "array([[2.03006244, 3.09175519],\n",
       "       [3.48522453, 3.8       ]])"
      ]
     },
     "execution_count": null,
     "metadata": {},
     "output_type": "execute_result"
    }
   ],
   "source": [
    "x = np.array(3.8)\n",
    "np.squeeze(update(x, ws, dist_fn, kernel_fn, lr=1))"
   ]
  },
  {
   "cell_type": "markdown",
   "metadata": {},
   "source": [
    "Ok, we observe that the SOM's nodes are pulled toward the bmu accordingly. We have all core SOM compoenents, we can implement now the training loop."
   ]
  },
  {
   "cell_type": "markdown",
   "metadata": {},
   "source": [
    "### I.6 Revised plan"
   ]
  },
  {
   "cell_type": "markdown",
   "metadata": {},
   "source": [
    "**AI Prompt**\n",
    "\n",
    "\n",
    "I think that should be pretty straightforward to implement. We know how to update the SOM/weights for every single data point. It suffices to iterate over the training set multiple times (epochs) until we think this is enough right? \n",
    "\n",
    "Obviously it raises a couple of questions. First usually, the learning rate and for instance the gaussian kernel sigma are decayed during training. Second, after each epoch (one pass over the train set), we'd like to log some metrics (Quantization error and Topographic error). Also, I think that would be very useful if we could visualize how the SOM improves as we add new features like scheduled learning rate and gaussian kernel sigma. Hence, I'd like to implement a U-Matrix visualization in priority. So I think we have to slightly revised the initial plan (shown below) to take into account both decay, metrics and U-matrix now as it is interleaved with the training loop. Ideally, we should implement second the training loop but implement in this main step also U-Matrix visualization, ... so that we can see how the training loop, training loop + scheduler affect the training visually.\n",
    "\n",
    "Initial plan:\n",
    "Following Polya's framework, let's create a structured plan. Here's a suggested breakdown - please let me know if you'd like to modify any part:\n",
    "\n",
    "1. Core SOM Components\n",
    "    - Initialize weight grid (DONE)\n",
    "    - Implement distance metrics (Euclidean first, others later) (DONE)\n",
    "    - Find BMU function (DONE)\n",
    "    - Create neighborhood function (DONE)\n",
    "    - Implement weight update rule (DONE)\n",
    "\n",
    "2. Training Loop\n",
    "    - Single sample update (DONE)\n",
    "    - Full epoch processing\n",
    "    - Learning rate scheduling\n",
    "    - Radius (sigma) scheduling\n",
    "\n",
    "3. Quality Metrics\n",
    "    - Quantization error\n",
    "    - Topographic error\n",
    "    - Other quality measures\n",
    "\n",
    "4. Utilities & Visualization\n",
    "    - Grid visualization\n",
    "    - U-Matrix\n",
    "    - Component planes\n",
    "\n",
    "5. Refactoring\n",
    "    - Create class structure\n",
    "    - Add flexibility for different metrics/schedulers\n",
    "    - Documentation\n",
    "\n",
    "Please adjust the plan accordingly."
   ]
  },
  {
   "cell_type": "markdown",
   "metadata": {},
   "source": [
    ":::{.callout-tip}\n",
    "\n",
    "**AI Response** \n",
    "\n",
    "\n",
    "You make excellent points! Yes, we should revise the plan to better integrate visualization and metrics with the training loop, since they're crucial for understanding how the SOM evolves. Here's a suggested revision:\n",
    "\n",
    "1. Core SOM Components (DONE)\n",
    "   - ✓ Initialize weight grid\n",
    "   - ✓ Distance metrics\n",
    "   - ✓ BMU function\n",
    "   - ✓ Neighborhood function\n",
    "   - ✓ Weight update rule\n",
    "\n",
    "2. Extended Training Components\n",
    "   - Training loop structure\n",
    "   - U-Matrix visualization (moved up from 4)\n",
    "   - Basic quality metrics (moved up from 3)\n",
    "   - Learning rate scheduler\n",
    "   - Radius scheduler\n",
    "   - Training progress visualization\n",
    "\n",
    "3. Additional Quality Metrics\n",
    "   - Quantization error\n",
    "   - Topographic error\n",
    "   - Custom metrics interface\n",
    "\n",
    "4. Additional Visualizations\n",
    "   - Component planes\n",
    "   - Custom visualization options\n",
    "\n",
    "5. Refactoring\n",
    "   - Class structure\n",
    "   - Flexible interfaces\n",
    "   - Documentation\n",
    "\n",
    "Would you like to start with implementing the training loop along with U-Matrix visualization so you can see the SOM's evolution during training?\n",
    ":::"
   ]
  },
  {
   "cell_type": "markdown",
   "metadata": {},
   "source": [
    "## II. EXTENDED TRAINING COMPONENTS"
   ]
  },
  {
   "cell_type": "markdown",
   "metadata": {},
   "source": [
    "Let's first implementing a training (fit) loop to see where and how scheduling should take place."
   ]
  },
  {
   "cell_type": "markdown",
   "metadata": {},
   "source": [
    "### II.1 A 2D toy dataset"
   ]
  },
  {
   "cell_type": "code",
   "execution_count": null,
   "metadata": {},
   "outputs": [
    {
     "name": "stdout",
     "output_type": "stream",
     "text": [
      "Defaulting to user installation because normal site-packages is not writeable\r\n",
      "Requirement already satisfied: scikit-learn in ./.local/lib/python3.11/site-packages (1.6.0)\r\n",
      "Requirement already satisfied: numpy>=1.19.5 in /usr/local/lib/python3.11/site-packages (from scikit-learn) (1.26.3)\r\n",
      "Requirement already satisfied: scipy>=1.6.0 in /usr/local/lib/python3.11/site-packages (from scikit-learn) (1.14.1)\r\n",
      "Requirement already satisfied: joblib>=1.2.0 in ./.local/lib/python3.11/site-packages (from scikit-learn) (1.4.2)\r\n",
      "Requirement already satisfied: threadpoolctl>=3.1.0 in ./.local/lib/python3.11/site-packages (from scikit-learn) (3.5.0)\r\n",
      "\r\n",
      "\u001b[1m[\u001b[0m\u001b[34;49mnotice\u001b[0m\u001b[1;39;49m]\u001b[0m\u001b[39;49m A new release of pip is available: \u001b[0m\u001b[31;49m24.0\u001b[0m\u001b[39;49m -> \u001b[0m\u001b[32;49m24.3.1\u001b[0m\r\n",
      "\u001b[1m[\u001b[0m\u001b[34;49mnotice\u001b[0m\u001b[1;39;49m]\u001b[0m\u001b[39;49m To update, run: \u001b[0m\u001b[32;49mpip install --upgrade pip\u001b[0m\r\n"
     ]
    }
   ],
   "source": [
    "!pip3 install scikit-learn"
   ]
  },
  {
   "cell_type": "code",
   "execution_count": null,
   "metadata": {},
   "outputs": [],
   "source": [
    "from sklearn.datasets import make_blobs, make_moons, make_swiss_roll\n",
    "X, y = make_blobs(n_samples=1_000, centers=3, cluster_std=0.5, random_state=0)"
   ]
  },
  {
   "cell_type": "code",
   "execution_count": null,
   "metadata": {},
   "outputs": [
    {
     "data": {
      "image/png": "[encoded data removed]",
      "text/plain": [
       "<Figure size 200x200 with 1 Axes>"
      ]
     },
     "metadata": {
      "image/png": {
       "height": 208,
       "width": 200
      }
     },
     "output_type": "display_data"
    }
   ],
   "source": [
    "plt.figure(figsize=(2,2))\n",
    "plt.scatter(X[:, 0], X[:, 1], c=y, cmap='viridis', s=3)\n",
    "plt.title(\"Three normally-distributed clusters\")\n",
    "plt.show()"
   ]
  },
  {
   "cell_type": "code",
   "execution_count": null,
   "metadata": {},
   "outputs": [
    {
     "data": {
      "text/plain": [
       "(1000, 2)"
      ]
     },
     "execution_count": null,
     "metadata": {},
     "output_type": "execute_result"
    }
   ],
   "source": [
    "X.shape"
   ]
  },
  {
   "cell_type": "code",
   "execution_count": null,
   "metadata": {},
   "outputs": [
    {
     "data": {
      "text/plain": [
       "8"
      ]
     },
     "execution_count": null,
     "metadata": {},
     "output_type": "execute_result"
    }
   ],
   "source": [
    "n_nodes = lambda n_samples: int(np.sqrt(5*np.sqrt(n_samples)))\n",
    "n_nodes(200)"
   ]
  },
  {
   "cell_type": "code",
   "execution_count": null,
   "metadata": {},
   "outputs": [
    {
     "data": {
      "text/plain": [
       "(12, 12, 2)"
      ]
     },
     "execution_count": null,
     "metadata": {},
     "output_type": "execute_result"
    }
   ],
   "source": [
    "n_samples = len(X)\n",
    "grid_sz = (n_nodes(n_samples),n_nodes(n_samples))\n",
    "ws = np.random.randn(*grid_sz, X.shape[-1])\n",
    "ws.shape"
   ]
  },
  {
   "cell_type": "markdown",
   "metadata": {},
   "source": [
    "### II.2 U-Matrix"
   ]
  },
  {
   "cell_type": "markdown",
   "metadata": {},
   "source": [
    "**AI Prompt**\n",
    "\n",
    "\n",
    "I'd like to create a U-Matrix visualization. Correct me if I am wrong but my understanding is the following:\n",
    "- for each unit/node, we compute the average or sum of the distances between the node and its neighbours (from 2 for the corners to 3 at the edges and 4 for the others)\n",
    "- we then represent those aggregated \"surrounding\" distances in the grid\n",
    "- it can be interpreted as follows (when bright is small distance and dark is large distance): a group of bright nodes surrounded by dark ones suggest a cluster \n",
    "\n",
    "Am I right?"
   ]
  },
  {
   "cell_type": "markdown",
   "metadata": {},
   "source": [
    ":::{.callout-tip}\n",
    "\n",
    "**AI Response** \n",
    "\n",
    "\n",
    "Yes, your understanding of the U-Matrix (Unified Distance Matrix) is correct! Let me confirm each point:\n",
    "\n",
    "1. ✓ For each node:\n",
    "   - Calculate distances to immediate neighbors\n",
    "   - Can have 2 neighbors (corners)\n",
    "   - Can have 3 neighbors (edges)\n",
    "   - Can have 4 neighbors (interior nodes)\n",
    "\n",
    "2. ✓ Visualization shows:\n",
    "   - Average/sum of distances to neighbors\n",
    "   - Usually displayed as a heatmap\n",
    "\n",
    "3. ✓ Interpretation:\n",
    "   - Bright regions = similar nodes = potential cluster\n",
    "   - Dark regions = dissimilar nodes = potential boundaries\n",
    "   - Dark \"barriers\" between bright regions suggest cluster boundaries\n",
    "\n",
    "Would you like to implement this visualization? We'll need to:\n",
    "1. Create a function to find neighbors for each node\n",
    "2. Calculate distances between neighbors\n",
    "3. Create the visualization\n",
    "\n",
    "Which part would you like to tackle first?\n",
    ":::"
   ]
  },
  {
   "cell_type": "code",
   "execution_count": null,
   "metadata": {},
   "outputs": [
    {
     "data": {
      "text/plain": [
       "array([[ 1,  3,  1],\n",
       "       [11,  4,  2],\n",
       "       [ 7,  8,  5]])"
      ]
     },
     "execution_count": null,
     "metadata": {},
     "output_type": "execute_result"
    }
   ],
   "source": [
    "# Test weights matrix (SOM)\n",
    "x = np.array([\n",
    "    [[1], [3], [1]],\n",
    "    [[11], [4], [2]],\n",
    "    [[7], [8], [5]]])\n",
    "\n",
    "np.squeeze(x)"
   ]
  },
  {
   "cell_type": "markdown",
   "metadata": {},
   "source": [
    "I first attempted an approach using vectorization, padded and masked version of the weights. I am finding cluncky and much less readable than a more straightforward iteration throughout the weights."
   ]
  },
  {
   "cell_type": "code",
   "execution_count": null,
   "metadata": {},
   "outputs": [
    {
     "data": {
      "text/plain": [
       "array([[2., 2., 0.],\n",
       "       [7., 2., 0.],\n",
       "       [1., 3., 0.]])"
      ]
     },
     "execution_count": null,
     "metadata": {},
     "output_type": "execute_result"
    }
   ],
   "source": [
    "# For instance a right-padded version of test weights matrix\n",
    "x_right = np.pad(x, ((0,0), (0,1), (0,0)), mode='edge')\n",
    "d_right = np.linalg.norm(x_right[:,1:] - x_right[:,0:-1], axis=-1)\n",
    "d_right"
   ]
  },
  {
   "cell_type": "markdown",
   "metadata": {},
   "source": [
    "Below, an iterative approach:"
   ]
  },
  {
   "cell_type": "code",
   "execution_count": null,
   "metadata": {},
   "outputs": [],
   "source": [
    "# Neighbors offsets\n",
    "nbr_offsets = [\n",
    "    (-1,-1), (-1,0), (-1,1),  # top-left, top, top-right\n",
    "    (0,-1),          (0,1),   # left, right\n",
    "    (1,-1),  (1,0),  (1,1)    # bottom-left, bottom, bottom-right\n",
    "]"
   ]
  },
  {
   "cell_type": "code",
   "execution_count": null,
   "metadata": {},
   "outputs": [
    {
     "name": "stdout",
     "output_type": "stream",
     "text": [
      "distance between: (0, 1) and (0, 0): 2.0 with weight: 1.00\n",
      "distance between: (0, 1) and (0, 2): 2.0 with weight: 1.00\n",
      "distance between: (0, 1) and (1, 0): 8.0 with weight: 0.71\n",
      "distance between: (0, 1) and (1, 1): 1.0 with weight: 1.00\n",
      "distance between: (0, 1) and (1, 2): 1.0 with weight: 0.71\n"
     ]
    },
    {
     "data": {
      "text/plain": [
       "2.5744021828816153"
      ]
     },
     "execution_count": null,
     "metadata": {},
     "output_type": "execute_result"
    }
   ],
   "source": [
    "n_rows, n_cols = 3,3\n",
    "pos = (0,1)\n",
    "_ws = []\n",
    "ds = []\n",
    "for dr,dc in nbr_offsets:\n",
    "    r,c = pos\n",
    "    nbr_r, nbr_c = r+dr, c+dc\n",
    "    if (nbr_r>=0 and nbr_r<n_rows) and (nbr_c>=0 and nbr_c<n_cols):\n",
    "        w = 1/np.sqrt(dr**2 + dc**2)\n",
    "        _ws.append(w)\n",
    "        d = np.linalg.norm(x[r, c] - x[nbr_r, nbr_c], axis=-1)\n",
    "        ds.append(d)\n",
    "        print(f'distance between: {r,c} and {nbr_r, nbr_c}: {d} with weight: {w:.2f}')\n",
    "\n",
    "np.average(ds, weights=_ws)"
   ]
  },
  {
   "cell_type": "code",
   "execution_count": null,
   "metadata": {},
   "outputs": [
    {
     "name": "stdout",
     "output_type": "stream",
     "text": [
      "True\n",
      "False\n",
      "False\n"
     ]
    }
   ],
   "source": [
    "def is_in_bounds(row_idx, col_idx, ws):\n",
    "    n_rows, n_cols = ws.shape[:2]\n",
    "    return  (row_idx>=0 and row_idx<n_rows) and (col_idx>=0 and col_idx<n_cols) \n",
    "\n",
    "print(is_in_bounds(0,0,x))\n",
    "print(is_in_bounds(-1,0,x))\n",
    "print(is_in_bounds(4,0,x))"
   ]
  },
  {
   "cell_type": "code",
   "execution_count": null,
   "metadata": {},
   "outputs": [
    {
     "data": {
      "text/plain": [
       "2.5744021828816153"
      ]
     },
     "execution_count": null,
     "metadata": {},
     "output_type": "execute_result"
    }
   ],
   "source": [
    "def nbr_dist(pos, ws, dist_fn, nbr_offsets=nbr_offsets):\n",
    "    weights = []\n",
    "    ds = []\n",
    "    for dr,dc in nbr_offsets:\n",
    "        r,c = pos\n",
    "        nbr_r, nbr_c = r+dr, c+dc\n",
    "        if is_in_bounds(nbr_r, nbr_c, ws):\n",
    "            weights.append(1/np.sqrt(dr**2 + dc**2))\n",
    "            d = dist_fn(ws[r, c] - ws[nbr_r, nbr_c], axis=-1)\n",
    "            ds.append(d)\n",
    "\n",
    "    return np.average(ds, weights=weights)\n",
    "\n",
    "pos = (0,1)\n",
    "nbr_dist(pos, x, np.linalg.norm)"
   ]
  },
  {
   "cell_type": "code",
   "execution_count": null,
   "metadata": {},
   "outputs": [
    {
     "data": {
      "text/plain": [
       "array([[ 1,  3,  1],\n",
       "       [11,  4,  2],\n",
       "       [ 7,  8,  5]])"
      ]
     },
     "execution_count": null,
     "metadata": {},
     "output_type": "execute_result"
    }
   ],
   "source": [
    "np.squeeze(x)"
   ]
  },
  {
   "cell_type": "code",
   "execution_count": null,
   "metadata": {},
   "outputs": [
    {
     "data": {
      "text/plain": [
       "array([[5.21638838, 2.57440218, 1.89180581],\n",
       "       [6.51943414, 3.08578644, 2.48056586],\n",
       "       [2.63060194, 3.25402494, 2.47759225]])"
      ]
     },
     "execution_count": null,
     "metadata": {},
     "output_type": "execute_result"
    }
   ],
   "source": [
    "u_matrix = np.zeros(x.shape[:2])\n",
    "for i, j in np.ndindex(x.shape[:2]):\n",
    "    u_matrix[i,j] = nbr_dist((i,j), x, np.linalg.norm)\n",
    "\n",
    "u_matrix"
   ]
  },
  {
   "cell_type": "code",
   "execution_count": null,
   "metadata": {},
   "outputs": [
    {
     "data": {
      "text/plain": [
       "array([[5.21638838, 2.57440218, 1.89180581],\n",
       "       [6.51943414, 3.08578644, 2.48056586],\n",
       "       [2.63060194, 3.25402494, 2.47759225]])"
      ]
     },
     "execution_count": null,
     "metadata": {},
     "output_type": "execute_result"
    }
   ],
   "source": [
    "def calculate_umatrix(weights, dist_fn=np.linalg.norm):\n",
    "    u_matrix = np.zeros(weights.shape[:2])\n",
    "    for i, j in np.ndindex(weights.shape[:2]):\n",
    "        u_matrix[i,j] = nbr_dist((i,j), weights, dist_fn)\n",
    "    return u_matrix\n",
    "\n",
    "calculate_umatrix(x)"
   ]
  },
  {
   "cell_type": "code",
   "execution_count": null,
   "metadata": {},
   "outputs": [
    {
     "data": {
      "image/png": "[encoded data removed]",
      "text/plain": [
       "<Figure size 200x200 with 2 Axes>"
      ]
     },
     "metadata": {
      "image/png": {
       "height": 178,
       "width": 217
      }
     },
     "output_type": "display_data"
    }
   ],
   "source": [
    "def plot_umatrix(weights, cmap='viridis_r', figsize=(2,2)):\n",
    "    umatrix = calculate_umatrix(weights)\n",
    "    plt.figure(figsize=figsize)\n",
    "    plt.imshow(umatrix, cmap=cmap, interpolation='nearest')\n",
    "    plt.colorbar(label='Average distance to neighbors')\n",
    "    plt.title('U-Matrix')\n",
    "    plt.show()\n",
    "\n",
    "plot_umatrix(ws)"
   ]
  },
  {
   "cell_type": "markdown",
   "metadata": {},
   "source": [
    "### II.3 Naive training loop"
   ]
  },
  {
   "cell_type": "code",
   "execution_count": null,
   "metadata": {},
   "outputs": [
    {
     "name": "stderr",
     "output_type": "stream",
     "text": [
      "\r\n",
      "  0%|          | 0/20 [00:00<?, ?it/s]\r\n",
      "  5%|5         | 1/20 [00:00<00:02,  7.25it/s]\r\n",
      " 10%|#         | 2/20 [00:00<00:02,  7.38it/s]\r\n",
      " 15%|#5        | 3/20 [00:00<00:02,  7.51it/s]\r\n",
      " 20%|##        | 4/20 [00:00<00:02,  7.57it/s]\r\n",
      " 25%|##5       | 5/20 [00:00<00:01,  7.55it/s]\r\n",
      " 30%|###       | 6/20 [00:00<00:01,  7.54it/s]\r\n",
      " 35%|###5      | 7/20 [00:00<00:01,  7.58it/s]\r\n",
      " 40%|####      | 8/20 [00:01<00:01,  7.58it/s]\r\n",
      " 45%|####5     | 9/20 [00:01<00:01,  7.58it/s]\r\n",
      " 50%|#####     | 10/20 [00:01<00:01,  7.54it/s]\r\n",
      " 55%|#####5    | 11/20 [00:01<00:01,  7.56it/s]\r\n",
      " 60%|######    | 12/20 [00:01<00:01,  7.57it/s]\r\n",
      " 65%|######5   | 13/20 [00:01<00:00,  7.55it/s]\r\n",
      " 70%|#######   | 14/20 [00:01<00:00,  7.50it/s]\r\n",
      " 75%|#######5  | 15/20 [00:01<00:00,  7.54it/s]\r\n",
      " 80%|########  | 16/20 [00:02<00:00,  7.58it/s]\r\n",
      " 85%|########5 | 17/20 [00:02<00:00,  7.55it/s]\r\n",
      " 90%|######### | 18/20 [00:02<00:00,  7.54it/s]\r\n",
      " 95%|#########5| 19/20 [00:02<00:00,  7.55it/s]\r\n",
      "100%|##########| 20/20 [00:02<00:00,  7.57it/s]\r\n",
      "100%|##########| 20/20 [00:02<00:00,  7.54it/s]\n"
     ]
    }
   ],
   "source": [
    "from tqdm import trange, tqdm\n",
    "n_epochs = 20\n",
    "for epoch in tqdm(range(n_epochs)):\n",
    "    X_ = np.random.permutation(X)\n",
    "    for x in X:\n",
    "        kernelf_fn = partial(gaussian_fn, sigma=1)\n",
    "        ws = update(x, ws, dist_fn, kernel_fn, lr=0.1)"
   ]
  },
  {
   "cell_type": "code",
   "execution_count": null,
   "metadata": {},
   "outputs": [
    {
     "data": {
      "image/png": "[encoded data removed]",
      "text/plain": [
       "<Figure size 200x200 with 2 Axes>"
      ]
     },
     "metadata": {
      "image/png": {
       "height": 178,
       "width": 217
      }
     },
     "output_type": "display_data"
    }
   ],
   "source": [
    "plot_umatrix(ws)"
   ]
  },
  {
   "cell_type": "markdown",
   "metadata": {},
   "source": [
    "**AI Prompt**\n",
    "\n",
    "Great, we clearly see the 3 clusters captured. Now I'd like to implement some of the metrics: Quantization Error and Topographic Error so that to log it after every epoch ideally."
   ]
  },
  {
   "cell_type": "markdown",
   "metadata": {},
   "source": [
    ":::{.callout-tip}\n",
    "\n",
    "**AI Response** \n",
    "\n",
    "\n",
    "Let's implement these two metrics:\n",
    "\n",
    "1. Quantization Error (QE):\n",
    "   - Average distance between each input vector and its BMU\n",
    "   - Measures how well the map represents the input space\n",
    "\n",
    "2. Topographic Error (TE):\n",
    "   - Proportion of data vectors for which 1st and 2nd BMUs are not adjacent\n",
    "   - Measures preservation of topology\n",
    "\n",
    "Would you like to implement these metrics one at a time? We can start with the Quantization Error since it's simpler and uses components we already have (distance function and BMU finding).\n",
    "\n",
    "Which metric would you prefer to tackle first?\n",
    ":::\n"
   ]
  },
  {
   "cell_type": "markdown",
   "metadata": {},
   "source": [
    "### II.4 Quantization Error (QE)"
   ]
  },
  {
   "cell_type": "markdown",
   "metadata": {},
   "source": [
    "**AI Prompt**\n",
    "\n",
    "\n",
    "Here is my understanding and plan to calculate QE (Quantization Error) For each sample of the training set we have to: \n",
    "- identify its bmu (we already have a function for this)\n",
    "- calculate input/sample distance from its bmu (we have this already)\n",
    "- take the mean of those distances\n",
    "\n",
    "Actually when we search the bmu, we take the `argmin` of the distances between each node/unit and the input. Here, we don't need to search the bmu, taking the min of the distances would already solve our problem.\n",
    "\n",
    "In summary, I think we already have all elements. What do you think?"
   ]
  },
  {
   "cell_type": "markdown",
   "metadata": {},
   "source": [
    ":::{.callout-tip}\n",
    "\n",
    "**AI Response** \n",
    "\n",
    "\n",
    "Yes, your understanding is perfect! You've made a very astute observation about reusing the distance calculation and just needing the minimum value rather than its position.\n",
    "\n",
    "For each input x, we:\n",
    "1. Calculate distances to all nodes (using our `dist_fn`)\n",
    "2. Take the minimum distance (don't need `argmin`, just `min`)\n",
    "3. Average these minimum distances across all inputs\n",
    "\n",
    "Would you like to try implementing this as a function? We can use numpy's vectorized operations to make it efficient. Would you like to try it yourself first, or would you like some guidance?\n",
    ":::\n"
   ]
  },
  {
   "cell_type": "code",
   "execution_count": null,
   "metadata": {},
   "outputs": [
    {
     "data": {
      "text/plain": [
       "0.14465875369726378"
      ]
     },
     "execution_count": null,
     "metadata": {},
     "output_type": "execute_result"
    }
   ],
   "source": [
    "qe_err = lambda X,ws: np.array([dist_fn(x, ws).min() for x in X]).mean()\n",
    "qe_err(X,ws)"
   ]
  },
  {
   "cell_type": "code",
   "execution_count": null,
   "metadata": {},
   "outputs": [],
   "source": [
    "n_samples = len(X)\n",
    "grid_sz = (n_nodes(n_samples),n_nodes(n_samples))\n",
    "ws = np.random.randn(*grid_sz, X.shape[-1])\n",
    "\n",
    "qe_errs = []\n",
    "n_epochs = 20\n",
    "for epoch in range(n_epochs):\n",
    "    X_ = np.random.permutation(X)\n",
    "    for x in X:\n",
    "        kernelf_fn = partial(gaussian_fn, sigma=1)\n",
    "        ws = update(x, ws, dist_fn, kernel_fn, lr=0.1)\n",
    "    qe_errs.append(qe_err(X, ws))"
   ]
  },
  {
   "cell_type": "code",
   "execution_count": null,
   "metadata": {},
   "outputs": [
    {
     "data": {
      "image/png": "[encoded data removed]",
      "text/plain": [
       "<Figure size 300x200 with 1 Axes>"
      ]
     },
     "metadata": {
      "image/png": {
       "height": 201,
       "width": 301
      }
     },
     "output_type": "display_data"
    }
   ],
   "source": [
    "plt.figure(figsize=(3, 2))\n",
    "plt.plot(range(1, n_epochs+1), qe_errs, lw=1)\n",
    "plt.grid(True, alpha=0.3)\n",
    "plt.xlabel('Epoch')\n",
    "plt.ylabel('Quantization Error')\n",
    "plt.title('SOM Training Progress')\n",
    "plt.tight_layout()"
   ]
  },
  {
   "cell_type": "markdown",
   "metadata": {},
   "source": [
    "### II.5 Topographic Error (TE)"
   ]
  },
  {
   "cell_type": "markdown",
   "metadata": {},
   "source": [
    "**AI Prompt**\n",
    "\n",
    "\n",
    "Let me give you my understanding of the Topographic Error metric. For each sample,\n",
    "- we take is best matching unit (bmu1) and its second best matching unit (bmu2)\n",
    "- if bmu2 is not adjacent (left, right, bottom, up, bottom right, ...) to bmu1 we count it as one error\n",
    "\n",
    "TE is simply the percentage of the number of such errors over the total number of training samples. Is my understanding correct?"
   ]
  },
  {
   "cell_type": "markdown",
   "metadata": {},
   "source": [
    ":::{.callout-tip}\n",
    "\n",
    "**AI Response** \n",
    "\n",
    "\n",
    "Yes, your understanding of Topographic Error is exactly right! Let's break down the key points:\n",
    "\n",
    "1. For each input sample:\n",
    "   - Find BMU (1st best)\n",
    "   - Find second BMU (2nd best)\n",
    "   - Check if they're adjacent using our neighbor definition\n",
    "   - Count as error if not adjacent\n",
    "\n",
    "2. Final TE = (number of errors) / (total samples)\n",
    "\n",
    "We already have most pieces:\n",
    "- Distance calculation\n",
    "- BMU finding\n",
    "- Neighbor definition (from U-Matrix implementation)\n",
    "\n",
    "Would you like to create a function to:\n",
    "1. Find the second-best BMU (we'll need to modify our existing BMU code), or\n",
    "2. Check if two positions are adjacent (we can use our `nbr_offsets` from earlier)\n",
    "\n",
    "Which part would you like to tackle first?\n",
    ":::"
   ]
  },
  {
   "cell_type": "markdown",
   "metadata": {},
   "source": [
    "**AI Prompt**\n",
    "\n",
    "\n",
    "How could I find the index of the two closest units/element in a SOM/array? I could possibly identify the bmu using the function already available, reassign the value of this bmu to `np.inf` on a copy of the som and take the bmu again to get the second one. What do you think? It is likely we can do it in a more straightforward way, don't you think?"
   ]
  },
  {
   "cell_type": "markdown",
   "metadata": {},
   "source": [
    ":::{.callout-tip}\n",
    "\n",
    "**AI Response** \n",
    "\n",
    "\n",
    "Ah yes, there's a more elegant way! We can use `np.argpartition()` which is specifically designed to find the k smallest (or largest) elements in an array. It's more efficient than your suggested approach since:\n",
    "\n",
    "1. It doesn't require making a copy\n",
    "2. It only partially sorts the array (just enough to find the k smallest values)\n",
    "3. It's a single operation\n",
    "\n",
    "Would you like to explore how to use `np.argpartition()` to find the indices of the two smallest distances? We can then use `np.unravel_index()` like we did before to convert these to grid coordinates.\n",
    "\n",
    "Would you like to try this approach?\n",
    ":::"
   ]
  },
  {
   "cell_type": "markdown",
   "metadata": {},
   "source": [
    "**AI Prompt**\n",
    "\n",
    "\n",
    "Can you explain how to retrieve the two smallest value in a 2D numpy array using np.argpartition?"
   ]
  },
  {
   "cell_type": "markdown",
   "metadata": {},
   "source": [
    ":::{.callout-tip}\n",
    "\n",
    "**AI Response** \n",
    "\n",
    "\n",
    "Let's break this down with a simple example:\n",
    "\n",
    "```python\n",
    "# Create a sample 2D array\n",
    "arr = np.array([[5, 2, 3],\n",
    "                [1, 7, 4],\n",
    "                [6, 8, 9]])\n",
    "\n",
    "# Get indices of 2 smallest values using np.argpartition\n",
    "# We first flatten the array, then find indices of 2 smallest values\n",
    "flat_indices = np.argpartition(arr.flatten(), 2)[:2]\n",
    "\n",
    "# Convert flat indices back to 2D coordinates using unravel_index\n",
    "indices_2d = np.unravel_index(flat_indices, arr.shape)\n",
    "```\n",
    "\n",
    "Would you like to try this with a small example to see how it works? We can then adapt it for our SOM distances.\n",
    ":::"
   ]
  },
  {
   "cell_type": "code",
   "execution_count": null,
   "metadata": {},
   "outputs": [
    {
     "name": "stdout",
     "output_type": "stream",
     "text": [
      "flat indices: [3 1]\n"
     ]
    },
    {
     "data": {
      "text/plain": [
       "[(1, 0), (0, 1)]"
      ]
     },
     "execution_count": null,
     "metadata": {},
     "output_type": "execute_result"
    }
   ],
   "source": [
    "# Create a sample 2D array\n",
    "arr = np.array([[5, 2, 3],\n",
    "                [1, 7, 4],\n",
    "                [6, 8, 9]])\n",
    "\n",
    "# Get indices of 2 smallest values using np.argpartition\n",
    "# We first flatten the array, then find indices of 2 smallest values\n",
    "flat_indices = np.argpartition(arr.flatten(), 2)[:2]\n",
    "print(f'flat indices: {flat_indices}')\n",
    "\n",
    "# Convert flat indices back to 2D coordinates using unravel_index\n",
    "rows_idx, cols_idx = np.unravel_index(flat_indices, arr.shape)\n",
    "list(zip(rows_idx, cols_idx))"
   ]
  },
  {
   "cell_type": "code",
   "execution_count": null,
   "metadata": {},
   "outputs": [
    {
     "data": {
      "text/plain": [
       "array([[2.9, 0.9, 2.9],\n",
       "       [7.1, 0.1, 1.9],\n",
       "       [3.1, 4.1, 1.1]])"
      ]
     },
     "execution_count": null,
     "metadata": {},
     "output_type": "execute_result"
    }
   ],
   "source": [
    "x = np.array([\n",
    "    [[1], [3], [1]],\n",
    "    [[11], [4], [2]],\n",
    "    [[7], [8], [5]]])\n",
    "\n",
    "dist_fn(np.array(3.9), x)"
   ]
  },
  {
   "cell_type": "code",
   "execution_count": null,
   "metadata": {},
   "outputs": [
    {
     "data": {
      "text/plain": [
       "[(1, 1), (0, 1)]"
      ]
     },
     "execution_count": null,
     "metadata": {},
     "output_type": "execute_result"
    }
   ],
   "source": [
    "arr = dist_fn(np.array(3.9), x)\n",
    "flat_indices = np.argpartition(arr.flatten(), 2)[:2]\n",
    "rows_idx, cols_idx = np.unravel_index(flat_indices, arr.shape)\n",
    "list(zip(rows_idx, cols_idx))"
   ]
  },
  {
   "cell_type": "markdown",
   "metadata": {},
   "source": [
    "Actually by checking directly the difference of rows and cols indices returned for the two closest elements we can already check if they are adjacent or not (if any of the difference of the two > 1)."
   ]
  },
  {
   "cell_type": "code",
   "execution_count": null,
   "metadata": {},
   "outputs": [
    {
     "data": {
      "text/plain": [
       "(array([1, 0]), array([1, 1]))"
      ]
     },
     "execution_count": null,
     "metadata": {},
     "output_type": "execute_result"
    }
   ],
   "source": [
    "arr = dist_fn(np.array(3.9), x)\n",
    "flat_indices = np.argpartition(arr.flatten(), 2)[:2]\n",
    "indices = np.unravel_index(flat_indices, arr.shape)\n",
    "indices"
   ]
  },
  {
   "cell_type": "code",
   "execution_count": null,
   "metadata": {},
   "outputs": [
    {
     "data": {
      "text/plain": [
       "False"
      ]
     },
     "execution_count": null,
     "metadata": {},
     "output_type": "execute_result"
    }
   ],
   "source": [
    "any([np.abs(x-y)> 1 for x,y in indices])"
   ]
  },
  {
   "cell_type": "markdown",
   "metadata": {},
   "source": [
    "Ok I think we have everything to implement the TE error."
   ]
  },
  {
   "cell_type": "code",
   "execution_count": null,
   "metadata": {},
   "outputs": [
    {
     "data": {
      "text/plain": [
       "38"
      ]
     },
     "execution_count": null,
     "metadata": {},
     "output_type": "execute_result"
    }
   ],
   "source": [
    "n_errs = 0\n",
    "for x in X:\n",
    "    arr = dist_fn(x, ws)\n",
    "    flat_indices = np.argpartition(arr.flatten(), 2)[:2]\n",
    "    indices = np.unravel_index(flat_indices, arr.shape)\n",
    "    if any([np.abs(x-y)> 1 for x,y in indices]): n_errs+=1\n",
    "n_errs"
   ]
  },
  {
   "cell_type": "code",
   "execution_count": null,
   "metadata": {},
   "outputs": [
    {
     "data": {
      "text/plain": [
       "3.8"
      ]
     },
     "execution_count": null,
     "metadata": {},
     "output_type": "execute_result"
    }
   ],
   "source": [
    "def te_err(X, ws, dist_fn=dist_fn):\n",
    "    n_errs = 0\n",
    "    for x in X:\n",
    "        arr = dist_fn(x, ws)\n",
    "        flat_indices = np.argpartition(arr.flatten(), 2)[:2]\n",
    "        indices = np.unravel_index(flat_indices, arr.shape)\n",
    "        if any([np.abs(x-y)> 1 for x,y in indices]): n_errs+=1\n",
    "    return 100*n_errs / len(X)\n",
    "\n",
    "te_err(X, ws)"
   ]
  },
  {
   "cell_type": "code",
   "execution_count": null,
   "metadata": {},
   "outputs": [],
   "source": [
    "n_samples = len(X)\n",
    "grid_sz = (n_nodes(n_samples),n_nodes(n_samples))\n",
    "ws = np.random.randn(*grid_sz, X.shape[-1])\n",
    "\n",
    "te_errs = []\n",
    "n_epochs = 20\n",
    "for epoch in range(n_epochs):\n",
    "    X_ = np.random.permutation(X)\n",
    "    for x in X:\n",
    "        kernelf_fn = partial(gaussian_fn, sigma=1)\n",
    "        ws = update(x, ws, dist_fn, kernel_fn, lr=0.1)\n",
    "    te_errs.append(te_err(X, ws))"
   ]
  },
  {
   "cell_type": "code",
   "execution_count": null,
   "metadata": {},
   "outputs": [
    {
     "data": {
      "image/png": "[encoded data removed]",
      "text/plain": [
       "<Figure size 300x200 with 1 Axes>"
      ]
     },
     "metadata": {
      "image/png": {
       "height": 201,
       "width": 302
      }
     },
     "output_type": "display_data"
    }
   ],
   "source": [
    "plt.figure(figsize=(3, 2))\n",
    "plt.plot(range(1, n_epochs+1), te_errs, lw=1)\n",
    "plt.grid(True, alpha=0.3)\n",
    "plt.xlabel('Epoch')\n",
    "plt.ylabel('Topographic Error')\n",
    "plt.title('SOM Training Progress')\n",
    "plt.tight_layout()"
   ]
  },
  {
   "cell_type": "markdown",
   "metadata": {},
   "source": [
    "### II.6 LR and σ schedulers"
   ]
  },
  {
   "cell_type": "markdown",
   "metadata": {},
   "source": [
    "**AI Prompt**\n",
    "\n",
    "We want a scheduler that given current step (epoch?) will decay both the learning rate and sigma for instance. Now I have a question. What do you think, should I make it flexible enough so that we could potentially decay them even before the end of an epoch?"
   ]
  },
  {
   "cell_type": "markdown",
   "metadata": {},
   "source": [
    ":::{.callout-tip}\n",
    "\n",
    "**AI Response** \n",
    "\n",
    "\n",
    "That's a great question! Yes, making the scheduler flexible enough to handle both epoch-level and sample-level updates would be more versatile, because:\n",
    "\n",
    "1. Different SOM implementations might need:\n",
    "   - Epoch-level decay (simpler, more common)\n",
    "   - Mini-batch decay\n",
    "   - Sample-level decay (finest granularity)\n",
    "\n",
    "2. Some papers suggest that fine-grained decay can be beneficial for:\n",
    "   - Better convergence\n",
    "   - More precise neighborhood adaptation\n",
    "   - Handling streaming data\n",
    "\n",
    "Would you like to design a scheduler interface that can handle both cases? We could:\n",
    "1. Make it step-based rather than epoch-based\n",
    "2. Let the user define what constitutes a \"step\"\n",
    "3. Allow different decay functions\n",
    "\n",
    "Would you like to explore any of these aspects first?\n"
   ]
  },
  {
   "cell_type": "markdown",
   "metadata": {},
   "source": [
    "**AI Prompt**\n",
    "\n",
    "\n",
    "Letting users define what constitues a \"step\" (e.g every n samples) sounds more flexible I think. Let's implement it."
   ]
  },
  {
   "cell_type": "markdown",
   "metadata": {},
   "source": [
    ":::{.callout-tip}\n",
    "\n",
    "**AI Response** \n",
    "\n",
    "\n",
    "Good choice! Let's design a flexible scheduler. We'll need to:\n",
    "\n",
    "1. Track:\n",
    "   - Current step number\n",
    "   - Initial value (lr or sigma)\n",
    "   - Decay function\n",
    "\n",
    "2. Allow users to:\n",
    "   - Define custom decay functions\n",
    "   - Specify when to step (sample, batch, epoch)\n",
    "\n",
    "Would you like to start with implementing a basic scheduler class or first explore some common decay functions? \n",
    "\n",
    "For decay functions, we could implement common ones like:\n",
    "- Linear decay\n",
    "- Exponential decay\n",
    "- Power decay (polynomial)\n",
    "\n",
    "Which would you prefer to tackle first?\n",
    ":::"
   ]
  },
  {
   "cell_type": "markdown",
   "metadata": {},
   "source": [
    "**AI Prompt**\n",
    "\n",
    "\n",
    "I step_sz means the every number of samples requires before updating a value. How to name the total number of samples*number of epochs where we reach the end of the decay?"
   ]
  },
  {
   "cell_type": "markdown",
   "metadata": {},
   "source": [
    ":::{.callout-tip}\n",
    "\n",
    "**AI Response** \n",
    "\n",
    "\n",
    "In scheduling contexts, this is often called the \"total_steps\" or \"max_steps\" - it represents the total number of update opportunities over the entire training process.\n",
    "\n",
    "So if we have:\n",
    "- n_samples = 1000\n",
    "- n_epochs = 20\n",
    "- step_size = 10 (update every 10 samples)\n",
    "\n",
    "Then:\n",
    "```python\n",
    "total_steps = (n_samples * n_epochs) // step_size\n",
    "```\n",
    "\n",
    "Would you like to use one of these names, or do you have another preference for what to call this parameter? We could also call it \"decay_steps\" or \"schedule_length\" if you think that would be clearer.\n",
    ":::\n"
   ]
  },
  {
   "cell_type": "code",
   "execution_count": null,
   "metadata": {},
   "outputs": [
    {
     "data": {
      "text/plain": [
       "0"
      ]
     },
     "execution_count": null,
     "metadata": {},
     "output_type": "execute_result"
    }
   ],
   "source": [
    "3000//step_sz"
   ]
  },
  {
   "cell_type": "code",
   "execution_count": null,
   "metadata": {},
   "outputs": [],
   "source": [
    "def exp_sched(start_val, end_val, i, n_steps):\n",
    "    decay = -np.log(end_val/start_val)/n_steps\n",
    "    return start_val * np.exp(-decay * i)\n",
    "\n",
    "step_sz = 5000\n",
    "n_samples = 10_000 \n",
    "n_epochs = 10\n",
    "n_steps = n_epochs*n_samples//step_sz\n",
    "start_v, end_v = 10, 1\n",
    "\n",
    "step_idx = 0\n",
    "v = start_v\n",
    "vs = []\n",
    "steps = []\n",
    "for i in range(n_epochs):\n",
    "    for j in range(n_samples):\n",
    "        total_samples = i*n_samples + j\n",
    "        if total_samples % step_sz == 0:\n",
    "            v = exp_sched(start_v, end_v, step_idx, n_steps)\n",
    "            vs.append(v)\n",
    "            steps.append(step_idx)\n",
    "            step_idx+=1"
   ]
  },
  {
   "cell_type": "code",
   "execution_count": null,
   "metadata": {},
   "outputs": [
    {
     "data": {
      "image/png": "[encoded data removed]",
      "text/plain": [
       "<Figure size 200x100 with 1 Axes>"
      ]
     },
     "metadata": {
      "image/png": {
       "height": 146,
       "width": 217
      }
     },
     "output_type": "display_data"
    }
   ],
   "source": [
    "plt.figure(figsize=(2, 1))\n",
    "plt.plot(steps, vs, lw=1)\n",
    "plt.grid(True)\n",
    "plt.xlabel('Sample index')\n",
    "plt.ylabel('Value')\n",
    "plt.title('Exponential Decay Schedule')\n",
    "plt.show()"
   ]
  },
  {
   "cell_type": "code",
   "execution_count": null,
   "metadata": {},
   "outputs": [],
   "source": [
    "from fastcore.all import *"
   ]
  },
  {
   "cell_type": "code",
   "execution_count": null,
   "metadata": {},
   "outputs": [],
   "source": [
    "class Scheduler:\n",
    "    def __init__(self, start_val, end_val, step_size, \n",
    "                 n_samples, n_epochs, decay_fn=exp_sched):\n",
    "        store_attr()\n",
    "        self.current_step = 0\n",
    "        self.current_value = start_val\n",
    "        self.total_steps = (n_samples * n_epochs) // step_size\n",
    "    \n",
    "    def step(self, total_samples):\n",
    "        if total_samples % self.step_size == 0:\n",
    "            self.current_value = self.decay_fn(\n",
    "                self.start_val, self.end_val, \n",
    "                self.current_step, self.total_steps\n",
    "            )\n",
    "            self.current_step += 1\n",
    "        return self.current_value"
   ]
  },
  {
   "cell_type": "markdown",
   "metadata": {},
   "source": [
    "### II.7 Advanced training loop with schedulers"
   ]
  },
  {
   "cell_type": "code",
   "execution_count": null,
   "metadata": {},
   "outputs": [],
   "source": [
    "n_samples = len(X)\n",
    "grid_sz = (n_nodes(n_samples),n_nodes(n_samples))\n",
    "ws = np.random.randn(*grid_sz, X.shape[-1])\n",
    "\n",
    "step_size=100\n",
    "lr_scheduler = Scheduler(start_val=1, end_val=0.01, step_size=step_size, \n",
    "                        n_samples=len(X), n_epochs=n_epochs)\n",
    "sigma_scheduler = Scheduler(start_val=6.0, end_val=1., step_size=step_size, \n",
    "                          n_samples=len(X), n_epochs=n_epochs)\n",
    "\n",
    "n_epochs = 20\n",
    "# Training loop\n",
    "for epoch in range(n_epochs):\n",
    "    X_ = np.random.permutation(X)\n",
    "    for i, x in enumerate(X_):\n",
    "        total_samples = epoch * len(X) + i\n",
    "        \n",
    "        # Get current lr and sigma values\n",
    "        lr = lr_scheduler.step(total_samples)\n",
    "        sigma = sigma_scheduler.step(total_samples)\n",
    "        \n",
    "        # Update weights using current lr and sigma\n",
    "        kernel_fn = partial(gaussian_fn, sigma=sigma)\n",
    "        ws = update(x, ws, dist_fn, kernel_fn, lr=lr)"
   ]
  },
  {
   "cell_type": "code",
   "execution_count": null,
   "metadata": {},
   "outputs": [],
   "source": [
    "def fit(X, ws, lr_scheduler, sigma_scheduler, n_epochs=20, shuffle=True):\n",
    "    qe_errs = []\n",
    "    te_errs = []\n",
    "    for epoch in range(n_epochs):\n",
    "        X_ = np.random.permutation(X) if shuffle else X.copy()\n",
    "        for i, x in enumerate(X_):\n",
    "            total_samples = epoch * len(X) + i\n",
    "            lr = lr_scheduler.step(total_samples)\n",
    "            sigma = sigma_scheduler.step(total_samples)\n",
    "            kernel_fn = partial(gaussian_fn, sigma=sigma)\n",
    "            ws = update(x, ws, dist_fn, kernel_fn, lr=lr)\n",
    "        qe, te = qe_err(X,ws), te_err(X,ws)\n",
    "        qe_errs.append(qe)\n",
    "        te_errs.append(te)\n",
    "        print(f'Epoch: {epoch+1} | QE: {qe_err(X,ws)}, TE: {te_err(X,ws)}')\n",
    "    return ws, qe_errs, te_errs"
   ]
  },
  {
   "cell_type": "code",
   "execution_count": null,
   "metadata": {},
   "outputs": [
    {
     "name": "stdout",
     "output_type": "stream",
     "text": [
      "Epoch: 1 | QE: 0.7361545362516652, TE: 0.1\n",
      "Epoch: 2 | QE: 0.5148950211961353, TE: 1.4\n",
      "Epoch: 3 | QE: 0.4161479264406785, TE: 2.5\n",
      "Epoch: 4 | QE: 0.3261032895452769, TE: 0.3\n",
      "Epoch: 5 | QE: 0.4344722303659532, TE: 0.6\n",
      "Epoch: 6 | QE: 0.4660129942532872, TE: 0.1\n",
      "Epoch: 7 | QE: 0.3492315992581065, TE: 0.6\n",
      "Epoch: 8 | QE: 0.30374238796782127, TE: 1.3\n",
      "Epoch: 9 | QE: 0.31955520142421034, TE: 0.4\n",
      "Epoch: 10 | QE: 0.26528420358326743, TE: 0.3\n",
      "Epoch: 11 | QE: 0.23678200850531003, TE: 0.8\n",
      "Epoch: 12 | QE: 0.21944164206845745, TE: 0.6\n",
      "Epoch: 13 | QE: 0.20784349249994324, TE: 0.5\n",
      "Epoch: 14 | QE: 0.20141528673718959, TE: 1.2\n",
      "Epoch: 15 | QE: 0.18861138082733617, TE: 0.9\n",
      "Epoch: 16 | QE: 0.17765457467386436, TE: 1.5\n",
      "Epoch: 17 | QE: 0.17077969894350056, TE: 1.1\n",
      "Epoch: 18 | QE: 0.16341102935415364, TE: 1.5\n",
      "Epoch: 19 | QE: 0.15816356896585257, TE: 1.3\n",
      "Epoch: 20 | QE: 0.154156360812519, TE: 0.7\n"
     ]
    }
   ],
   "source": [
    "n_samples = len(X)\n",
    "grid_sz = (n_nodes(n_samples),n_nodes(n_samples))\n",
    "ws = np.random.randn(*grid_sz, X.shape[-1])\n",
    "\n",
    "step_size=100\n",
    "lr_scheduler = Scheduler(start_val=1, end_val=0.01, step_size=step_size, \n",
    "                        n_samples=len(X), n_epochs=n_epochs)\n",
    "sigma_scheduler = Scheduler(start_val=6.0, end_val=1., step_size=step_size, \n",
    "                          n_samples=len(X), n_epochs=n_epochs)\n",
    "\n",
    "ws, qe_errs, te_errs = fit(X, ws, lr_scheduler, sigma_scheduler, n_epochs=20)"
   ]
  },
  {
   "cell_type": "code",
   "execution_count": null,
   "metadata": {},
   "outputs": [
    {
     "data": {
      "image/png": "[encoded data removed]",
      "text/plain": [
       "<Figure size 200x200 with 2 Axes>"
      ]
     },
     "metadata": {
      "image/png": {
       "height": 178,
       "width": 217
      }
     },
     "output_type": "display_data"
    }
   ],
   "source": [
    "plot_umatrix(ws)"
   ]
  },
  {
   "cell_type": "markdown",
   "metadata": {},
   "source": [
    "**AI Prompt**\n",
    "\n",
    "\n",
    "I am wondering how to best choose the initial and end learning rate and sigma. Is there any standard methodology other than grid search? Any thumb of rules I must be aware of?"
   ]
  },
  {
   "cell_type": "markdown",
   "metadata": {},
   "source": [
    ":::{.callout-tip}\n",
    "\n",
    "**AI Response** \n",
    "\n",
    "\n",
    "Yes, there are some common guidelines for SOM hyperparameters:\n",
    "\n",
    "1. Learning Rate (lr):\n",
    "   - Start: Usually between 0.1 and 1.0\n",
    "   - End: Small but non-zero (0.01 or even smaller)\n",
    "   - Rule of thumb: Higher initial lr for larger datasets/maps\n",
    "\n",
    "2. Sigma (neighborhood radius):\n",
    "   - Start: Usually max(grid_width, grid_height)/2\n",
    "   - End: Should cover about one unit (0.5-1.0)\n",
    "   - Rule of thumb: Larger initial sigma helps global ordering\n",
    "\n",
    "3. General principles:\n",
    "   - Training has two phases:\n",
    "     1. Ordering phase: High lr and sigma for global organization\n",
    "     2. Fine-tuning phase: Low lr and sigma for local adjustments\n",
    "   - Training length should be at least 500 times number of nodes\n",
    "\n",
    "Would you like to try adjusting your parameters based on these guidelines?\n",
    ":::\n"
   ]
  },
  {
   "cell_type": "markdown",
   "metadata": {},
   "source": [
    "### II.8 Revised plan"
   ]
  },
  {
   "cell_type": "markdown",
   "metadata": {},
   "source": [
    "**AI Prompt**\n",
    "\n",
    "\n",
    "No that's ok for now, thanks a lot! Now I think we need once more time to revise the plan as we are making very good progress and focus on the remaining steps. As a reminder, here below the previous plan:\n",
    "You make excellent points! Yes, we should revise the plan to better integrate visualization and metrics with the training loop, since they're crucial for understanding how the SOM evolves. Here's a suggested revision:\n",
    "\n",
    "1. Core SOM Components (DONE)\n",
    "   - ✓ Initialize weight grid\n",
    "   - ✓ Distance metrics\n",
    "   - ✓ BMU function\n",
    "   - ✓ Neighborhood function\n",
    "   - ✓ Weight update rule\n",
    "\n",
    "2. Extended Training Components\n",
    "   - Training loop structure - DONE\n",
    "   - U-Matrix visualization (moved up from 4) - DONE\n",
    "   - Basic quality metrics (moved up from 3) - DONE\n",
    "   - Learning rate scheduler - DONE\n",
    "   - Radius scheduler - DONE\n",
    "   - Training progress visualization - DONE \n",
    "\n",
    "3. Additional Quality Metrics\n",
    "   - Quantization error - DONE\n",
    "   - Topographic error - DONE\n",
    "   - Custom metrics interface\n",
    "\n",
    "4. Additional Visualizations\n",
    "   - Component planes\n",
    "   - Custom visualization options\n",
    "\n",
    "5. Refactoring\n",
    "   - Class structure\n",
    "   - Flexible interfaces\n",
    "   - Documentation\n",
    "\n",
    "I have further specified which steps were already completed! You evoked additional visualization techniques (on top of the u-matrix) and possible additional metrics. Last the refactoring and documentation phases remains highligh important as final steps. However there is one important aspects we have not addressed that we should address next which is the initialization of the SOM/weights. Now we are doing it randomly, I think we can use PCA also. I would be interested to understand it in further details and implement it. \n",
    "\n",
    "Can you advise and propose an update plan? Important: Consider the numbering of each steps already used so that the new plan can be appended to it consistently."
   ]
  },
  {
   "cell_type": "markdown",
   "metadata": {},
   "source": [
    ":::{.callout-tip}\n",
    "\n",
    "**AI Response** \n",
    "\n",
    "\n",
    "Yes, you're right! The PCA initialization is an important addition. Here's the updated plan, maintaining consistent numbering and adding the initialization as step 6 before refactoring:\n",
    "\n",
    "III. Weights Initialization Methods\n",
    "   - Random (current - DONE)\n",
    "   - PCA-based initialization\n",
    "   - Comparison of initialization impacts\n",
    "\n",
    "IV. Additional Quality Metrics & Visualization\n",
    "   - Component planes\n",
    "   - Additional custom metrics interface\n",
    "   - Custom visualization options\n",
    "\n",
    "V. Refactoring & Documentation\n",
    "   - Class structure\n",
    "   - Flexible interfaces\n",
    "   - Comprehensive documentation\n",
    "   - Usage examples\n",
    "\n",
    "Would you like to start exploring the PCA initialization approach? I can explain how PCA can help initialize the SOM weights more effectively than random initialization.\n",
    ":::"
   ]
  },
  {
   "cell_type": "markdown",
   "metadata": {},
   "source": [
    "## III. WEIGHTS INITIALIZATION METHODS"
   ]
  },
  {
   "cell_type": "markdown",
   "metadata": {},
   "source": [
    "**AI Prompt**\n",
    "\n",
    "\n",
    "Can you explain what's the idea of using PCA to initialize SOM weights?"
   ]
  },
  {
   "cell_type": "markdown",
   "metadata": {},
   "source": [
    ":::{.callout-tip}\n",
    "\n",
    "**AI Response** \n",
    "\n",
    "\n",
    "The idea behind PCA initialization for SOM weights is quite clever:\n",
    "\n",
    "1. Main concept:\n",
    "   - Instead of random initialization, we want initial weights that already reflect the data's structure\n",
    "   - PCA finds the principal directions of variation in your data\n",
    "   - We can use these directions to create a more informed initial grid\n",
    "\n",
    "2. The process typically works by:\n",
    "   - Finding the two largest principal components of your data\n",
    "   - Using these to create a linear interpolation grid\n",
    "   - This grid becomes your initial weights\n",
    "\n",
    "3. Benefits:\n",
    "   - Faster convergence (weights start closer to final configuration)\n",
    "   - More stable training\n",
    "   - Better preservation of data topology\n",
    "\n",
    "Would you like me to explain more about how this works in practice, or would you prefer to start implementing it?\n",
    ":::"
   ]
  },
  {
   "cell_type": "markdown",
   "metadata": {},
   "source": [
    "**AI Prompt**\n",
    "\n",
    "\n",
    "Yes I know PCA but your statement \"Using these to create a linear interpolation grid\" is a bit unclear to me. Please further elaborate."
   ]
  },
  {
   "cell_type": "markdown",
   "metadata": {},
   "source": [
    ":::{.callout-tip}\n",
    "\n",
    "**AI Response** \n",
    "\n",
    "\n",
    "Ah, let me clarify the linear interpolation part:\n",
    "\n",
    "Let's say we have a 4x4 SOM grid and our data is 3-dimensional. After PCA:\n",
    "\n",
    "1. We get two principal components (PC1 and PC2)\n",
    "   - These define a 2D plane where data varies most\n",
    "\n",
    "2. The \"linear interpolation grid\" means:\n",
    "   - Along rows: We interpolate values from -1 to 1 using PC1 (4 points)\n",
    "   - Along columns: We interpolate values from -1 to 1 using PC2 (4 points)\n",
    "   - Each grid point becomes: (α*PC1 + β*PC2)\n",
    "   - Where α and β are the interpolated values\n",
    "\n",
    "So each weight vector is a linear combination of PC1 and PC2, creating a regular grid that spans the main directions of variation in your data.\n",
    "\n",
    "Would you like to see this process with a small example using your dataset?\n",
    ":::"
   ]
  },
  {
   "cell_type": "markdown",
   "metadata": {},
   "source": [
    "**AI Prompt**\n",
    "\n",
    "\n",
    "Thanks it's a bit clearer. Let me try to reformulate it, in the context of a highly dimensional dataset (which is the primary target of SOM), we take the two largest principal components (PCs) and generate the initial weights of the grid in the span of those two PCs.\n",
    "\n",
    "I have two remarks:\n",
    "- in the situation where our input dataset is 2D, there would be no added value as we could have equally taken initial weights in the span of the initial basis (randomly)\n",
    "- don't you think that would be also important to consider the eigen values (% of variance explained by each PCs) to generate those initial SOM weights? Do you see my point?\n",
    "\n",
    "What do you think?"
   ]
  },
  {
   "cell_type": "markdown",
   "metadata": {},
   "source": [
    ":::{.callout-tip}\n",
    "\n",
    "**AI Response** \n",
    "\n",
    "\n",
    "Excellent observations! Let me address both points:\n",
    "\n",
    "1. 2D data case:\n",
    "   - ✓ You're absolutely right! PCA initialization would be less beneficial\n",
    "   - The benefit really shows in higher dimensions where random initialization might miss important data structure\n",
    "\n",
    "2. Eigenvalues consideration:\n",
    "   - ✓ Very insightful point! Yes, the variance explained by each PC is important\n",
    "   - We could use the eigenvalues to:\n",
    "     * Scale the grid points according to the relative importance of each PC\n",
    "     * Make the grid more stretched along PC1 if it explains much more variance than PC2\n",
    "     * This would better reflect the actual data distribution\n",
    "\n",
    "Would you like to modify the initialization approach to incorporate the eigenvalues? We could scale the α and β coefficients by the square root of their respective eigenvalues to reflect the relative importance of each direction.\n",
    ":::"
   ]
  },
  {
   "cell_type": "markdown",
   "metadata": {},
   "source": [
    "**AI Prompt**\n",
    "\n",
    "\n",
    "Great!Let's implement it but let me try first."
   ]
  },
  {
   "cell_type": "markdown",
   "metadata": {},
   "source": [
    ":::{.callout-tip}\n",
    "\n",
    "**AI Response** \n",
    "\n",
    "\n",
    "Perfect! Go ahead and try implementing it yourself. If you get stuck or want to discuss your implementation, I'm here to help. \n",
    "\n",
    "Remember you'll need to:\n",
    "1. Perform PCA on your data\n",
    "2. Get the first two PCs and their eigenvalues\n",
    "3. Create the interpolation grid with eigenvalue scaling\n",
    "\n",
    "Let me know when you want to discuss your implementation or if you need any clarification!\n",
    ":::"
   ]
  },
  {
   "cell_type": "markdown",
   "metadata": {},
   "source": [
    "To assess the added value of PCA initialization we should use a higher dimentionsal toy dataset. We choose the MNIST dataset for that purpose as provided by scikitlearn."
   ]
  },
  {
   "cell_type": "code",
   "execution_count": null,
   "metadata": {},
   "outputs": [
    {
     "data": {
      "text/plain": [
       "((1797, 64), (1797,))"
      ]
     },
     "execution_count": null,
     "metadata": {},
     "output_type": "execute_result"
    }
   ],
   "source": [
    "from sklearn.datasets import load_digits\n",
    "\n",
    "X, y = load_digits(return_X_y=True)\n",
    "X.shape, y.shape"
   ]
  },
  {
   "cell_type": "code",
   "execution_count": null,
   "metadata": {},
   "outputs": [
    {
     "data": {
      "text/plain": [
       "array([[-0.28710938, -0.28710938,  0.02539062],\n",
       "       [-0.30566406, -0.30566406, -0.30566406],\n",
       "       [-0.3359375 , -0.3359375 , -0.3359375 ]])"
      ]
     },
     "execution_count": null,
     "metadata": {},
     "output_type": "execute_result"
    }
   ],
   "source": [
    "# Using column-wise centering to keep pixels correlation\n",
    "X_norm = (X - np.mean(X, axis=-1, keepdims=True))/X.max()\n",
    "X_norm[:3,:3]"
   ]
  },
  {
   "cell_type": "code",
   "execution_count": null,
   "metadata": {},
   "outputs": [
    {
     "data": {
      "image/png": "[encoded data removed]",
      "text/plain": [
       "<Figure size 100x100 with 1 Axes>"
      ]
     },
     "metadata": {
      "image/png": {
       "height": 120,
       "width": 120
      }
     },
     "output_type": "display_data"
    }
   ],
   "source": [
    "plt.figure(figsize=(1, 1))  \n",
    "plt.axis('off')\n",
    "plt.imshow(X_norm[16].reshape(8,8), cmap='gray')\n",
    "plt.tight_layout(pad=0)\n",
    "plt.show()"
   ]
  },
  {
   "cell_type": "markdown",
   "metadata": {},
   "source": [
    "## III.1 Random initialization"
   ]
  },
  {
   "cell_type": "code",
   "execution_count": null,
   "metadata": {},
   "outputs": [
    {
     "name": "stdout",
     "output_type": "stream",
     "text": [
      "Epoch: 1 | QE: 2.0704569004526077, TE: 1.613800779076238\n",
      "Epoch: 2 | QE: 1.9993114714766416, TE: 2.782415136338342\n",
      "Epoch: 3 | QE: 1.861177046446639, TE: 0.8903728436282693\n",
      "Epoch: 4 | QE: 1.9219833266979651, TE: 2.1702838063439067\n",
      "Epoch: 5 | QE: 1.8149792250549173, TE: 1.947690595436839\n",
      "Epoch: 6 | QE: 1.7232480060982525, TE: 0.5564830272676683\n",
      "Epoch: 7 | QE: 1.6416867945969185, TE: 0.8347245409015025\n",
      "Epoch: 8 | QE: 1.6012357873004686, TE: 0.8347245409015025\n",
      "Epoch: 9 | QE: 1.525608040533907, TE: 0.38953811908736785\n",
      "Epoch: 10 | QE: 1.4982022948153044, TE: 0.11129660545353366\n",
      "Epoch: 11 | QE: 1.437747418705183, TE: 0.7790762381747357\n",
      "Epoch: 12 | QE: 1.3905844080513237, TE: 0.6121313299944352\n",
      "Epoch: 13 | QE: 1.3560227127148223, TE: 0.667779632721202\n",
      "Epoch: 14 | QE: 1.3173744703746464, TE: 0.8347245409015025\n",
      "Epoch: 15 | QE: 1.2798663316734378, TE: 0.7234279354479688\n",
      "Epoch: 16 | QE: 1.2483547543469942, TE: 0.5008347245409015\n",
      "Epoch: 17 | QE: 1.219034936826061, TE: 0.44518642181413465\n",
      "Epoch: 18 | QE: 1.1926493832743006, TE: 0.44518642181413465\n",
      "Epoch: 19 | QE: 1.1704315350038619, TE: 0.6121313299944352\n",
      "Epoch: 20 | QE: 1.1514711948834122, TE: 0.8903728436282693\n"
     ]
    }
   ],
   "source": [
    "#n_samples = len(X)\n",
    "#grid_sz = (n_nodes(n_samples),n_nodes(n_samples))\n",
    "grid_sz = (20,20)\n",
    "ws = np.random.randn(*grid_sz, X.shape[-1])\n",
    "\n",
    "step_size=200\n",
    "lr_scheduler = Scheduler(start_val=1, end_val=0.01, step_size=step_size, \n",
    "                         n_samples=len(X), n_epochs=n_epochs)\n",
    "sigma_scheduler = Scheduler(start_val=10.0, end_val=1., step_size=step_size, \n",
    "                            n_samples=len(X), n_epochs=n_epochs)\n",
    "\n",
    "ws, qe_errs, te_errs = fit(X_norm, ws, lr_scheduler, sigma_scheduler, n_epochs=20)"
   ]
  },
  {
   "cell_type": "code",
   "execution_count": null,
   "metadata": {},
   "outputs": [
    {
     "data": {
      "image/png": "[encoded data removed]",
      "text/plain": [
       "<Figure size 200x200 with 2 Axes>"
      ]
     },
     "metadata": {
      "image/png": {
       "height": 178,
       "width": 217
      }
     },
     "output_type": "display_data"
    }
   ],
   "source": [
    "plot_umatrix(ws)"
   ]
  },
  {
   "cell_type": "markdown",
   "metadata": {},
   "source": [
    "### III.2 PCA initialization"
   ]
  },
  {
   "cell_type": "code",
   "execution_count": null,
   "metadata": {},
   "outputs": [
    {
     "name": "stdout",
     "output_type": "stream",
     "text": [
      "[0.15122797 0.13826949]\n",
      "[35.43643386 33.88419201]\n"
     ]
    }
   ],
   "source": [
    "from sklearn.decomposition import PCA\n",
    "pca = PCA(n_components=2)\n",
    "pca.fit(X_norm)\n",
    "print(pca.explained_variance_ratio_)\n",
    "print(pca.singular_values_)"
   ]
  },
  {
   "cell_type": "code",
   "execution_count": null,
   "metadata": {},
   "outputs": [
    {
     "data": {
      "text/plain": [
       "(2, 64)"
      ]
     },
     "execution_count": null,
     "metadata": {},
     "output_type": "execute_result"
    }
   ],
   "source": [
    "pca.components_.shape"
   ]
  },
  {
   "cell_type": "code",
   "execution_count": null,
   "metadata": {},
   "outputs": [
    {
     "data": {
      "text/plain": [
       "array([-1.        , -0.77777778, -0.55555556, -0.33333333, -0.11111111,\n",
       "        0.11111111,  0.33333333,  0.55555556,  0.77777778,  1.        ])"
      ]
     },
     "execution_count": null,
     "metadata": {},
     "output_type": "execute_result"
    }
   ],
   "source": [
    "np.linspace(-1,1,num=10)"
   ]
  },
  {
   "cell_type": "code",
   "execution_count": null,
   "metadata": {},
   "outputs": [],
   "source": [
    "# -1*e1*v1 + -1*e2*v2\n",
    "# -0.9*e1*v1 + -0.9*e2*v2"
   ]
  },
  {
   "cell_type": "markdown",
   "metadata": {},
   "source": [
    "**AI Prompt**\n",
    "\n",
    "\n",
    "Once I have the 2 highest eigen values and vectors, how do I create a `nxn` matrix to be used as SOM based on this?"
   ]
  },
  {
   "cell_type": "markdown",
   "metadata": {},
   "source": [
    ":::{.callout-tip}\n",
    "\n",
    "**AI Response** \n",
    "\n",
    "\n",
    "For a n×n SOM grid, here's how to create the PCA-initialized weights:\n",
    "\n",
    "1. Create two sets of coefficients:\n",
    "```python\n",
    "alpha = np.linspace(-1, 1, n)  # for PC1\n",
    "beta = np.linspace(-1, 1, n)   # for PC2\n",
    "```\n",
    "\n",
    "1. Scale them by square root of eigenvalues:\n",
    "```python\n",
    "alpha *= np.sqrt(pca.explained_variance_[0])\n",
    "beta *= np.sqrt(pca.explained_variance_[1])\n",
    "```\n",
    "\n",
    "1. Create the grid using outer products:\n",
    "```python\n",
    "# Create meshgrid\n",
    "alpha_grid, beta_grid = np.meshgrid(alpha, beta)\n",
    "\n",
    "# Initialize weights array\n",
    "weights = np.zeros((n, n, X.shape[1]))  # shape: (n, n, 64) for MNIST\n",
    "\n",
    "# Each weight is a linear combination of PC1 and PC2\n",
    "weights = (alpha_grid[..., np.newaxis] * pca.components_[0] + \n",
    "          beta_grid[..., np.newaxis] * pca.components_[1])\n",
    "```\n",
    "\n",
    "Would you like to try implementing this approach?\n",
    ":::"
   ]
  },
  {
   "cell_type": "code",
   "execution_count": null,
   "metadata": {},
   "outputs": [],
   "source": [
    "grid_sz = (20,20)\n",
    "n = grid_sz[0]\n",
    "alpha = np.linspace(-1, 1, n)  # for PC1\n",
    "beta = np.linspace(-1, 1, n)   # for PC2"
   ]
  },
  {
   "cell_type": "code",
   "execution_count": null,
   "metadata": {},
   "outputs": [],
   "source": [
    "alpha *= np.sqrt(pca.explained_variance_[0])\n",
    "beta *= np.sqrt(pca.explained_variance_[1])"
   ]
  },
  {
   "cell_type": "code",
   "execution_count": null,
   "metadata": {},
   "outputs": [],
   "source": [
    "alpha_grid, beta_grid = np.meshgrid(alpha, beta)"
   ]
  },
  {
   "cell_type": "code",
   "execution_count": null,
   "metadata": {},
   "outputs": [],
   "source": [
    "ws = np.zeros((n, n, X.shape[1]))"
   ]
  },
  {
   "cell_type": "code",
   "execution_count": null,
   "metadata": {},
   "outputs": [
    {
     "data": {
      "text/plain": [
       "(20, 20, 64)"
      ]
     },
     "execution_count": null,
     "metadata": {},
     "output_type": "execute_result"
    }
   ],
   "source": [
    "ws = (alpha_grid[..., np.newaxis] * pca.components_[0] + \n",
    "          beta_grid[..., np.newaxis] * pca.components_[1])\n",
    "ws.shape"
   ]
  },
  {
   "cell_type": "code",
   "execution_count": null,
   "metadata": {},
   "outputs": [
    {
     "name": "stdout",
     "output_type": "stream",
     "text": [
      "Epoch: 1 | QE: 2.021117062983796, TE: 2.949360044518642\n",
      "Epoch: 2 | QE: 2.0374532407086186, TE: 3.728436282693378\n",
      "Epoch: 3 | QE: 1.9381056000802876, TE: 1.1686143572621035\n",
      "Epoch: 4 | QE: 1.8750135481900163, TE: 3.394546466332777\n",
      "Epoch: 5 | QE: 1.7731177749486253, TE: 0.9460211463550362\n",
      "Epoch: 6 | QE: 1.7381528690875534, TE: 1.1129660545353366\n",
      "Epoch: 7 | QE: 1.6576526895942232, TE: 1.335559265442404\n",
      "Epoch: 8 | QE: 1.585401407283374, TE: 1.279910962715637\n",
      "Epoch: 9 | QE: 1.564939121993558, TE: 0.9460211463550362\n",
      "Epoch: 10 | QE: 1.4887308931209031, TE: 0.8347245409015025\n",
      "Epoch: 11 | QE: 1.4567525145876061, TE: 0.8347245409015025\n",
      "Epoch: 12 | QE: 1.3981773691503705, TE: 0.667779632721202\n",
      "Epoch: 13 | QE: 1.3556213938081516, TE: 0.667779632721202\n",
      "Epoch: 14 | QE: 1.317842103259422, TE: 0.7790762381747357\n",
      "Epoch: 15 | QE: 1.2812507568473976, TE: 0.5008347245409015\n",
      "Epoch: 16 | QE: 1.2470507719706745, TE: 0.5564830272676683\n",
      "Epoch: 17 | QE: 1.2189855689098217, TE: 0.5564830272676683\n",
      "Epoch: 18 | QE: 1.1935169201963478, TE: 0.5008347245409015\n",
      "Epoch: 19 | QE: 1.1719132431346526, TE: 0.6121313299944352\n",
      "Epoch: 20 | QE: 1.1539758415894774, TE: 0.8347245409015025\n"
     ]
    }
   ],
   "source": [
    "step_size=200\n",
    "lr_scheduler = Scheduler(start_val=1, end_val=0.01, step_size=step_size, \n",
    "                         n_samples=len(X), n_epochs=n_epochs)\n",
    "sigma_scheduler = Scheduler(start_val=10.0, end_val=1., step_size=step_size, \n",
    "                            n_samples=len(X), n_epochs=n_epochs)\n",
    "\n",
    "ws, qe_errs, te_errs = fit(X_norm, ws, lr_scheduler, sigma_scheduler, n_epochs=20)"
   ]
  },
  {
   "cell_type": "code",
   "execution_count": null,
   "metadata": {},
   "outputs": [
    {
     "data": {
      "image/png": "[encoded data removed]",
      "text/plain": [
       "<Figure size 200x200 with 2 Axes>"
      ]
     },
     "metadata": {
      "image/png": {
       "height": 178,
       "width": 217
      }
     },
     "output_type": "display_data"
    }
   ],
   "source": [
    "plot_umatrix(ws)"
   ]
  },
  {
   "cell_type": "markdown",
   "metadata": {},
   "source": [
    "**AI Prompt**\n",
    "\n",
    "\n",
    "The effect of PCA initialization is not probative above. How could I see the added value?"
   ]
  },
  {
   "cell_type": "markdown",
   "metadata": {},
   "source": [
    ":::{.callout-tip}\n",
    "\n",
    "**AI Response** \n",
    "\n",
    "\n",
    "To better demonstrate the value of PCA initialization, we could:\n",
    "\n",
    "1. Compare convergence speed:\n",
    "   - Run both initializations multiple times\n",
    "   - Plot learning curves (QE vs epochs) on the same graph\n",
    "   - Start with fewer epochs to see early convergence\n",
    "\n",
    "2. Use a more complex dataset:\n",
    "   - MNIST digits at higher resolution\n",
    "   - Or a dataset with more pronounced principal components\n",
    "   - Currently we're using 8x8 digits which might be too simple\n",
    "\n",
    "3. Visualize initial state:\n",
    "   - Show U-Matrix right after initialization (before training)\n",
    "   - Compare random vs PCA initialization structures\n",
    "\n",
    "4. Adjust hyperparameters:\n",
    "   - Different learning rates\n",
    "   - Different grid sizes\n",
    "   - Different sigma values\n",
    "\n",
    "Which approach would you like to try first to better demonstrate the difference between random and PCA initialization?\n",
    ":::"
   ]
  },
  {
   "cell_type": "markdown",
   "metadata": {},
   "source": [
    "**AI Prompt**\n",
    "\n",
    "Thanks, very useful! That's fine for now I will perform this thorough assessment later."
   ]
  },
  {
   "cell_type": "markdown",
   "metadata": {},
   "source": [
    ":::{.callout-tip}\n",
    "\n",
    "**AI Response** \n",
    "\n",
    "\n",
    "Alright! We've covered PCA initialization and have some good ideas for evaluating its effectiveness later. \n",
    "\n",
    "Would you like to move on to the next part of our plan? We could look at:\n",
    "1. Component planes visualization\n",
    "2. Additional quality metrics\n",
    "3. Start the refactoring phase\n",
    "\n",
    "Which would you prefer to tackle next?\n",
    ":::"
   ]
  },
  {
   "cell_type": "markdown",
   "metadata": {},
   "source": [
    "## IV. ADDITIONAL VISUALIZATIONS"
   ]
  },
  {
   "cell_type": "markdown",
   "metadata": {},
   "source": [
    "**AI Prompt**\n",
    "\n",
    "Explain me the concept of \"Component planes visualization\" in the contexte of the MNIST dataset for instance."
   ]
  },
  {
   "cell_type": "markdown",
   "metadata": {},
   "source": [
    ":::{.callout-tip}\n",
    "\n",
    "**AI Response** \n",
    "\n",
    "\n",
    "In the context of MNIST, component planes visualization is particularly interesting:\n",
    "\n",
    "1. Basic concept:\n",
    "   - Each weight vector (node) has 64 components (8x8 pixels)\n",
    "   - A component plane shows how ONE of these 64 components varies across the SOM grid\n",
    "   - We get 64 different \"heatmaps\", one for each pixel position\n",
    "\n",
    "2. For MNIST specifically:\n",
    "   - Each component plane shows how a specific pixel varies across the map\n",
    "   - Bright areas = high pixel values in that position\n",
    "   - Dark areas = low pixel values in that position\n",
    "   - This reveals which regions of the SOM activate specific parts of the digits\n",
    "\n",
    "3. Interpretation:\n",
    "   - Similar patterns across component planes suggest correlated pixels\n",
    "   - Some planes might show clear structures (e.g., strong activation in middle pixels for digit \"1\")\n",
    "   - Helps understand how the SOM has organized digit features\n",
    "\n",
    "Would you like to visualize some component planes for our trained MNIST SOM to see this in practice?\n",
    ":::"
   ]
  },
  {
   "cell_type": "markdown",
   "metadata": {},
   "source": [
    "**AI Prompt**\n",
    "\n",
    "\n",
    "Ok I see, I will implement it later, let's focus on the refactoring and the documentation now."
   ]
  },
  {
   "cell_type": "markdown",
   "metadata": {},
   "source": [
    ":::{.callout-tip}\n",
    "\n",
    "**AI Response** \n",
    "\n",
    "\n",
    "Sure! For refactoring, we should create a well-structured class that encapsulates all the functionality we've built. Here's what we could consider:\n",
    "\n",
    "1. Core SOM Class structure:\n",
    "   - Initialization (random/PCA)\n",
    "   - Training methods\n",
    "   - Visualization methods\n",
    "   - Quality metrics\n",
    "   - Flexible interfaces for schedulers\n",
    "\n",
    "2. Documentation needs:\n",
    "   - Clear docstrings\n",
    "   - Usage examples\n",
    "   - Parameter descriptions\n",
    "   - References to literature\n",
    "\n",
    "Would you like to start with:\n",
    "1. Designing the class interface\n",
    "2. Writing the documentation structure\n",
    "3. Organizing the methods we've created\n",
    "\n",
    "Which aspect would you prefer to tackle first?\n",
    ":::\n"
   ]
  },
  {
   "cell_type": "markdown",
   "metadata": {},
   "source": [
    "## V. REFACTORING"
   ]
  },
  {
   "cell_type": "markdown",
   "metadata": {},
   "source": [
    "**AI Prompt**\n",
    "\n",
    "Please design a class interface embedding all components implemented above. \n",
    "Make sure to:\n",
    "- use nbdev-like documentation and docstrings\n",
    "- use fastai coding style"
   ]
  },
  {
   "cell_type": "markdown",
   "metadata": {},
   "source": [
    ":::{.callout-tip}\n",
    "\n",
    "I'll design a class interface following nbdev and fastai style. Let's start with the core class structure:\n",
    "\n",
    "```python\n",
    "class SOM:\n",
    "    def __init__(self, grid_sz:tuple, # Size of the SOM grid (rows, cols)\n",
    "                 input_dim:int,        # Dimension of input data\n",
    "                 init:str='random',    # Initialization method: 'random' or 'pca'\n",
    "                 dist_fn=np.linalg.norm # Distance metric function\n",
    "                ):\n",
    "        \"Initialize a Self-Organizing Map with given grid size and input dimension\"\n",
    "        \n",
    "    def fit(self, X:np.ndarray,           # Training data\n",
    "            n_epochs:int=20,              # Number of training epochs\n",
    "            lr_scheduler:Scheduler=None,   # Learning rate scheduler\n",
    "            sigma_scheduler:Scheduler=None, # Neighborhood radius scheduler\n",
    "            shuffle:bool=True,             # Shuffle data each epoch\n",
    "            verbose:bool=True              # Print training progress\n",
    "           )->tuple:                       # Returns (weights, qe_errors, te_errors)\n",
    "        \"Train the SOM on input data X\"\n",
    "        \n",
    "    def transform(self, X:np.ndarray # Input data to transform\n",
    "                )->np.ndarray:       # Returns BMU coordinates for each input\n",
    "        \"Find Best Matching Unit (BMU) for each input vector\"\n",
    "        \n",
    "    @property\n",
    "    def umatrix(self)->np.ndarray:  # Returns U-Matrix of current weights\n",
    "        \"Calculate and return the U-Matrix\"\n",
    "        \n",
    "    def quantization_error(self, X:np.ndarray # Input data\n",
    "                         )->float:            # Returns QE value\n",
    "        \"Calculate quantization error for input data\"\n",
    "        \n",
    "    def topographic_error(self, X:np.ndarray # Input data\n",
    "                        )->float:            # Returns TE value\n",
    "        \"Calculate topographic error for input data\"\n",
    "```\n",
    "\n",
    "Would you like me to:\n",
    "1. Add more methods\n",
    "2. Elaborate on any particular method\n",
    "3. Add more documentation details\n",
    "4. Show how the existing functions would fit into this structure\n",
    "\n",
    "What would be most helpful?\n",
    ":::"
   ]
  },
  {
   "cell_type": "markdown",
   "metadata": {},
   "source": [
    "**AI Prompt**\n",
    "\n",
    "The interface looks fine, please feed it with the implementations"
   ]
  },
  {
   "cell_type": "markdown",
   "metadata": {},
   "source": [
    ":::{.callout-tip}\n",
    "\n",
    "I'll help you implement the class step by step. Let's start with the core structure and basic methods:\n",
    "\n",
    "```python\n",
    "class SOM:\n",
    "    def __init__(self, grid_sz:tuple, input_dim:int, init:str='random', dist_fn=np.linalg.norm):\n",
    "        \"Initialize a Self-Organizing Map with given grid size and input dimension\"\n",
    "        store_attr()\n",
    "        self.weights = self._initialize_weights(init)\n",
    "        \n",
    "    def _initialize_weights(self, method:str)->np.ndarray:\n",
    "        \"Initialize weights using either random or PCA initialization\"\n",
    "        if method == 'random':\n",
    "            return np.random.randn(*self.grid_sz, self.input_dim)\n",
    "        elif method == 'pca':\n",
    "            # We'll implement PCA initialization\n",
    "            raise NotImplementedError(\"PCA initialization to be implemented\")\n",
    "```\n",
    "\n",
    "Would you like me to continue with implementing more methods? We can do this incrementally, testing each part as we go. Which method would you like to implement next?\n",
    "\n",
    "1. PCA initialization\n",
    "2. Core training loop (fit)\n",
    "3. Transform method\n",
    "4. Error metrics\n",
    "\n",
    "Let me know which you'd prefer to tackle first!\n",
    ":::"
   ]
  },
  {
   "cell_type": "markdown",
   "metadata": {},
   "source": [
    "**AI Prompt**\n",
    "\n",
    "Next implement, PCA initialization."
   ]
  },
  {
   "cell_type": "markdown",
   "metadata": {},
   "source": [
    ":::{.callout-tip}\n",
    "\n",
    "I'll add the PCA initialization to our SOM class. We'll need to modify the `_initialize_weights` method and add a helper method for PCA:\n",
    "\n",
    "```python\n",
    "from sklearn.decomposition import PCA\n",
    "\n",
    "class SOM:\n",
    "    def __init__(self, grid_sz:tuple, input_dim:int, init:str='random', dist_fn=np.linalg.norm):\n",
    "        \"Initialize a Self-Organizing Map with given grid size and input dimension\"\n",
    "        store_attr()\n",
    "        self.weights = None  # Will be initialized when fitting\n",
    "        \n",
    "    def _initialize_weights_pca(self, X:np.ndarray)->np.ndarray:\n",
    "        \"Initialize weights using PCA of the input data\"\n",
    "        pca = PCA(n_components=2)\n",
    "        pca.fit(X)\n",
    "        \n",
    "        # Create grid coordinates and scale by eigenvalues\n",
    "        n = self.grid_sz[0]\n",
    "        alpha = np.linspace(-1, 1, n) * np.sqrt(pca.explained_variance_[0])\n",
    "        beta = np.linspace(-1, 1, n) * np.sqrt(pca.explained_variance_[1])\n",
    "        \n",
    "        # Create the grid\n",
    "        alpha_grid, beta_grid = np.meshgrid(alpha, beta)\n",
    "        \n",
    "        # Initialize weights as linear combination of first two PCs\n",
    "        return (alpha_grid[..., np.newaxis] * pca.components_[0] + \n",
    "                beta_grid[..., np.newaxis] * pca.components_[1])\n",
    "    \n",
    "    def _initialize_weights(self, X:np.ndarray=None, method:str='random')->np.ndarray:\n",
    "        \"Initialize weights using either random or PCA initialization\"\n",
    "        if method == 'random':\n",
    "            return np.random.randn(*self.grid_sz, self.input_dim)\n",
    "        elif method == 'pca':\n",
    "            if X is None: \n",
    "                raise ValueError(\"Data matrix X required for PCA initialization\")\n",
    "            return self._initialize_weights_pca(X)\n",
    "```\n",
    "\n",
    "Note that we've modified the initialization to:\n",
    "1. Accept the input data X when needed for PCA\n",
    "2. Move PCA logic to a separate method\n",
    "3. Make weights initialization defer until we have data\n",
    "\n",
    "Would you like to implement the next component? We could tackle:\n",
    "1. Core training loop (fit)\n",
    "2. Transform method\n",
    "3. Error metrics\n",
    "\n",
    "Which would you prefer?\n",
    ":::"
   ]
  },
  {
   "cell_type": "markdown",
   "metadata": {},
   "source": [
    "**AI Prompt**\n",
    "\n",
    "Implement the core training loop"
   ]
  },
  {
   "cell_type": "markdown",
   "metadata": {},
   "source": [
    ":::{.callout-tip}\n",
    "\n",
    "I'll implement the core training loop (fit method) and its supporting functions. We'll need to include the neighborhood and update logic we developed earlier:\n",
    "\n",
    "```python\n",
    "class SOM:\n",
    "    # ... (previous methods remain the same)\n",
    "    \n",
    "    def _find_bmu(self, x:np.ndarray)->tuple:\n",
    "        \"Find coordinates of Best Matching Unit for input x\"\n",
    "        distances = self.dist_fn(x, self.weights)\n",
    "        return np.unravel_index(np.argmin(distances), self.grid_sz)\n",
    "    \n",
    "    def _grid_distances(self, bmu_pos:tuple)->np.ndarray:\n",
    "        \"Calculate grid distances from BMU position\"\n",
    "        rows_idx, cols_idx = np.ogrid[0:self.grid_sz[0], 0:self.grid_sz[1]]\n",
    "        return (bmu_pos[0] - rows_idx)**2 + (bmu_pos[1] - cols_idx)**2\n",
    "    \n",
    "    def _neighborhood_function(self, grid_dist:np.ndarray, sigma:float)->np.ndarray:\n",
    "        \"Calculate neighborhood function values\"\n",
    "        return np.exp(-grid_dist/(2*sigma**2))\n",
    "    \n",
    "    def _update_weights(self, x:np.ndarray, learning_rate:float, sigma:float):\n",
    "        \"Update weights for a single input vector\"\n",
    "        bmu_pos = self._find_bmu(x)\n",
    "        grid_dist = self._grid_distances(bmu_pos)\n",
    "        neighborhood = self._neighborhood_function(grid_dist, sigma)\n",
    "        self.weights += learning_rate * neighborhood[..., np.newaxis] * (x - self.weights)\n",
    "    \n",
    "    def fit(self, X:np.ndarray, n_epochs:int=20, \n",
    "            lr_scheduler:Scheduler=None, sigma_scheduler:Scheduler=None,\n",
    "            shuffle:bool=True, verbose:bool=True)->tuple:\n",
    "        \"Train the SOM on input data X\"\n",
    "        # Initialize weights if not already done\n",
    "        if self.weights is None:\n",
    "            self.weights = self._initialize_weights(X, self.init)\n",
    "        \n",
    "        # Setup default schedulers if none provided\n",
    "        if lr_scheduler is None:\n",
    "            lr_scheduler = Scheduler(1.0, 0.01, 100, len(X), n_epochs)\n",
    "        if sigma_scheduler is None:\n",
    "            sigma_scheduler = Scheduler(max(self.grid_sz)/2, 1.0, 100, len(X), n_epochs)\n",
    "        \n",
    "        qe_errors, te_errors = [], []\n",
    "        for epoch in range(n_epochs):\n",
    "            X_ = np.random.permutation(X) if shuffle else X.copy()\n",
    "            \n",
    "            # Train on each input vector\n",
    "            for i, x in enumerate(X_):\n",
    "                total_samples = epoch * len(X) + i\n",
    "                lr = lr_scheduler.step(total_samples)\n",
    "                sigma = sigma_scheduler.step(total_samples)\n",
    "                self._update_weights(x, lr, sigma)\n",
    "            \n",
    "            # Calculate errors\n",
    "            qe = self.quantization_error(X)\n",
    "            te = self.topographic_error(X)\n",
    "            qe_errors.append(qe)\n",
    "            te_errors.append(te)\n",
    "            \n",
    "            if verbose:\n",
    "                print(f'Epoch: {epoch+1} | QE: {qe:.4f}, TE: {te:.4f}')\n",
    "        \n",
    "        return self.weights, qe_errors, te_errors\n",
    "```\n",
    "\n",
    "Would you like me to:\n",
    "1. Add the error metrics methods next\n",
    "2. Add the transform method\n",
    "3. Explain any part of this implementation in more detail\n",
    "\n",
    "Which would you prefer?\n",
    ":::"
   ]
  },
  {
   "cell_type": "markdown",
   "metadata": {},
   "source": [
    "**AI Prompt**\n",
    "\n",
    "Ok, add the error metrics methods next"
   ]
  },
  {
   "cell_type": "markdown",
   "metadata": {},
   "source": [
    ":::{.callout-tip}\n",
    "\n",
    "**AI Response** \n",
    "\n",
    "I'll add the error metrics methods to our SOM class:\n",
    "\n",
    "```python\n",
    "class SOM:\n",
    "    # ... (previous methods remain the same)\n",
    "    \n",
    "    def quantization_error(self, X:np.ndarray)->float:\n",
    "        \"Calculate average distance between each input vector and its BMU\"\n",
    "        return np.array([\n",
    "            self.dist_fn(x, self.weights).min() \n",
    "            for x in X\n",
    "        ]).mean()\n",
    "    \n",
    "    def topographic_error(self, X:np.ndarray)->float:\n",
    "        \"Calculate proportion of data vectors where 1st and 2nd BMUs are not adjacent\"\n",
    "        def _check_bmu_adjacency(x):\n",
    "            # Get indices of two best matching units\n",
    "            distances = self.dist_fn(x, self.weights)\n",
    "            flat_indices = np.argpartition(distances.flatten(), 2)[:2]\n",
    "            indices = np.unravel_index(flat_indices, self.grid_sz)\n",
    "            # Check if any coordinate differs by more than 1\n",
    "            return any(np.abs(x-y) > 1 for x,y in indices)\n",
    "        \n",
    "        n_errors = sum(_check_bmu_adjacency(x) for x in X)\n",
    "        return 100 * n_errors / len(X)  # Return percentage\n",
    "```\n",
    "\n",
    "Would you like me to:\n",
    "1. Add the transform method next\n",
    "2. Add the U-Matrix visualization\n",
    "3. Add component planes visualization\n",
    "4. Something else?\n",
    "\n",
    "Which would you prefer?\n",
    ":::"
   ]
  },
  {
   "cell_type": "markdown",
   "metadata": {},
   "source": [
    "**AI Prompt**\n",
    "\n",
    "Add the transform method."
   ]
  },
  {
   "cell_type": "markdown",
   "metadata": {},
   "source": [
    ":::{.callout-tip}\n",
    "\n",
    "**AI Response** \n",
    "\n",
    "\n",
    "I'll add the transform method to find BMU coordinates for new data points:\n",
    "\n",
    "```python\n",
    "class SOM:\n",
    "    # ... (previous methods remain the same)\n",
    "    \n",
    "    def transform(self, X:np.ndarray)->np.ndarray:\n",
    "        \"Find Best Matching Unit (BMU) coordinates for each input vector\"\n",
    "        bmu_coords = np.zeros((len(X), 2), dtype=int)\n",
    "        for i, x in enumerate(X):\n",
    "            bmu_coords[i] = self._find_bmu(x)\n",
    "        return bmu_coords\n",
    "    \n",
    "    def predict(self, X:np.ndarray)->np.ndarray:\n",
    "        \"Alias for transform method to follow sklearn convention\"\n",
    "        return self.transform(X)\n",
    "```\n",
    "\n",
    "I added both `transform` and `predict` methods to follow scikit-learn conventions. The `predict` method is just an alias for `transform`.\n",
    "\n",
    "Would you like me to:\n",
    "1. Add the U-Matrix visualization next\n",
    "2. Add component planes visualization\n",
    "3. Add any other methods?\n",
    "\n",
    "Which would you prefer?\n",
    ":::"
   ]
  },
  {
   "cell_type": "markdown",
   "metadata": {},
   "source": [
    "**AI Prompt**\n",
    "\n",
    "Now, implement the U-matrix component."
   ]
  },
  {
   "cell_type": "markdown",
   "metadata": {},
   "source": [
    ":::{.callout-tip}\n",
    "\n",
    "**AI Response** \n",
    "\n",
    "\n",
    "I'll add the U-Matrix calculation and visualization methods:\n",
    "\n",
    "```python\n",
    "class SOM:\n",
    "    # ... (previous methods remain the same)\n",
    "    \n",
    "    def _calculate_umatrix(self)->np.ndarray:\n",
    "        \"Calculate U-Matrix values for current weights\"\n",
    "        def _neighbor_distances(pos):\n",
    "            # Offsets for 8 neighbors\n",
    "            nbr_offsets = [\n",
    "                (-1,-1), (-1,0), (-1,1),  # top-left, top, top-right\n",
    "                (0,-1),          (0,1),   # left, right\n",
    "                (1,-1),  (1,0),  (1,1)    # bottom-left, bottom, bottom-right\n",
    "            ]\n",
    "            \n",
    "            distances = []\n",
    "            weights = []\n",
    "            for dr, dc in nbr_offsets:\n",
    "                r, c = pos\n",
    "                nbr_r, nbr_c = r+dr, c+dc\n",
    "                if (nbr_r >= 0 and nbr_r < self.grid_sz[0] and \n",
    "                    nbr_c >= 0 and nbr_c < self.grid_sz[1]):\n",
    "                    w = 1/np.sqrt(dr**2 + dc**2)  # weight by distance\n",
    "                    weights.append(w)\n",
    "                    d = self.dist_fn(self.weights[r,c] - self.weights[nbr_r,nbr_c])\n",
    "                    distances.append(d)\n",
    "            return np.average(distances, weights=weights)\n",
    "        \n",
    "        umatrix = np.zeros(self.grid_sz)\n",
    "        for i, j in np.ndindex(self.grid_sz):\n",
    "            umatrix[i,j] = _neighbor_distances((i,j))\n",
    "        return umatrix\n",
    "    \n",
    "    @property\n",
    "    def umatrix(self)->np.ndarray:\n",
    "        \"Return the U-Matrix for current weights\"\n",
    "        return self._calculate_umatrix()\n",
    "    \n",
    "    def plot_umatrix(self, figsize=(8,6), cmap='viridis_r'):\n",
    "        \"Plot U-Matrix visualization\"\n",
    "        import matplotlib.pyplot as plt\n",
    "        \n",
    "        plt.figure(figsize=figsize)\n",
    "        plt.imshow(self.umatrix, cmap=cmap, interpolation='nearest')\n",
    "        plt.colorbar(label='Average distance to neighbors')\n",
    "        plt.title('U-Matrix')\n",
    "        plt.tight_layout()\n",
    "        plt.show()\n",
    "```\n",
    "\n",
    "I've included:\n",
    "1. Internal calculation method `_calculate_umatrix`\n",
    "2. Property getter for easy access to U-Matrix\n",
    "3. Plotting method with customizable parameters\n",
    "\n",
    "Would you like me to:\n",
    "1. Add component planes visualization next\n",
    "2. Add any other visualization methods\n",
    "3. Explain any part of the U-Matrix implementation in more detail?\n",
    "\n",
    "Which would you prefer?\n",
    ":::"
   ]
  },
  {
   "cell_type": "markdown",
   "metadata": {},
   "source": [
    "### V.2 Readme.md"
   ]
  },
  {
   "cell_type": "markdown",
   "metadata": {},
   "source": [
    "**AI Prompt**\n",
    "\n",
    "Last, I'd like you to generate a `README.md` file for a package making this SOM implementation available to a wider audience (let's name this package Teuvo). I'd like it to mention the design philosophy of \"SolveIt\" also. Use a how to use section using the MNIST dataset for instance."
   ]
  },
  {
   "cell_type": "markdown",
   "metadata": {},
   "source": [
    ":::{.callout-tip}\n",
    "\n",
    "**AI Response** \n",
    "I'll create a README.md for the \"Teuvo\" package (nice reference to Teuvo Kohonen!). I'll structure it to be clear, informative, and showcase the implementation philosophy:\n",
    "\n",
    "```markdown\n",
    "# Teuvo: A Pythonic Self-Organizing Map Implementation\n",
    "\n",
    "A flexible, well-documented implementation of Self-Organizing Maps (SOMs) following the principles of clarity, step-by-step problem solving, and vectorized operations.\n",
    "\n",
    "## Design Philosophy\n",
    "\n",
    "This implementation follows the \"SolveIt\" approach:\n",
    "- Break complex problems into manageable steps\n",
    "- Prioritize clarity and understanding over premature optimization\n",
    "- Document and explain each component thoroughly\n",
    "- Use vectorized operations for efficiency\n",
    "- Provide flexible interfaces for customization\n",
    "\n",
    "## Installation\n",
    "\n",
    "```bash\n",
    "pip install teuvo\n",
    "```\n",
    "\n",
    "## Quick Start\n",
    "\n",
    "```python\n",
    "from teuvo import SOM\n",
    "import numpy as np\n",
    "from sklearn.datasets import load_digits\n",
    "\n",
    "# Load and normalize MNIST data\n",
    "X, y = load_digits(return_X_y=True)\n",
    "X_norm = (X - np.mean(X, axis=-1, keepdims=True))/X.max()\n",
    "\n",
    "# Create and train SOM\n",
    "som = SOM(grid_sz=(20,20), input_dim=64, init='pca')\n",
    "som.fit(X_norm, n_epochs=20)\n",
    "\n",
    "# Visualize results\n",
    "som.plot_umatrix()\n",
    "```\n",
    "\n",
    "## Features\n",
    "\n",
    "- Multiple initialization methods:\n",
    "  - Random initialization\n",
    "  - PCA-based initialization (for faster convergence)\n",
    "- Flexible training options:\n",
    "  - Customizable learning rate schedules\n",
    "  - Adjustable neighborhood functions\n",
    "- Comprehensive quality metrics:\n",
    "  - Quantization Error\n",
    "  - Topographic Error\n",
    "- Rich visualization tools:\n",
    "  - U-Matrix visualization\n",
    "  - Component planes (coming soon)\n",
    "\n",
    "## Detailed Example: MNIST Digit Classification\n",
    "\n",
    "```python\n",
    "from teuvo import SOM\n",
    "from teuvo.schedulers import Scheduler\n",
    "import numpy as np\n",
    "from sklearn.datasets import load_digits\n",
    "import matplotlib.pyplot as plt\n",
    "\n",
    "# Load and preprocess data\n",
    "X, y = load_digits(return_X_y=True)\n",
    "X_norm = (X - np.mean(X, axis=-1, keepdims=True))/X.max()\n",
    "\n",
    "# Initialize SOM\n",
    "som = SOM(\n",
    "    grid_sz=(20,20),\n",
    "    input_dim=64,\n",
    "    init='pca'  # Use PCA initialization\n",
    ")\n",
    "\n",
    "# Create custom schedulers\n",
    "lr_scheduler = Scheduler(start_val=1.0, end_val=0.01, \n",
    "                       step_size=200, n_samples=len(X), n_epochs=20)\n",
    "sigma_scheduler = Scheduler(start_val=10.0, end_val=1.0, \n",
    "                          step_size=200, n_samples=len(X), n_epochs=20)\n",
    "\n",
    "# Train\n",
    "weights, qe_errors, te_errors = som.fit(\n",
    "    X_norm,\n",
    "    n_epochs=20,\n",
    "    lr_scheduler=lr_scheduler,\n",
    "    sigma_scheduler=sigma_scheduler\n",
    ")\n",
    "\n",
    "# Visualize results\n",
    "plt.figure(figsize=(12,4))\n",
    "\n",
    "plt.subplot(121)\n",
    "plt.plot(qe_errors)\n",
    "plt.title('Quantization Error')\n",
    "plt.xlabel('Epoch')\n",
    "\n",
    "plt.subplot(122)\n",
    "som.plot_umatrix()\n",
    "\n",
    "plt.tight_layout()\n",
    "plt.show()\n",
    "```\n",
    "\n",
    "## Contributing\n",
    "\n",
    "We welcome contributions! Please see our contributing guidelines for details.\n",
    "\n",
    "## References\n",
    "\n",
    "- Kohonen, T. (1982). Self-organized formation of topologically correct feature maps\n",
    "- Kohonen, T. (2013). Essentials of the self-organizing map\n",
    "- Polya, G. (1945). How to Solve It\n",
    "\n",
    "## License\n",
    "\n",
    "MIT\n",
    "\n",
    "## Acknowledgments\n",
    "\n",
    "Named in honor of Teuvo Kohonen, who introduced the Self-Organizing Map algorithm.\n",
    "```\n",
    "\n",
    "Would you like me to:\n",
    "1. Add more examples\n",
    "2. Expand any section\n",
    "3. Add installation or dependency details\n",
    "4. Add anything else?\n",
    "\n",
    ":::"
   ]
  },
  {
   "cell_type": "markdown",
   "metadata": {},
   "source": [
    "**AI Prompt**\n",
    "\n",
    "Last request! Can you generate a TOC for the whole notebook that I will prepend for easier navigation?"
   ]
  },
  {
   "cell_type": "markdown",
   "metadata": {},
   "source": [
    "**AI Response**\n",
    "\n",
    "Here's a Table of Contents for your notebook:\n",
    "\n",
    "```markdown\n",
    "# Self-Organizing Map Implementation\n",
    "\n",
    "## Table of Contents\n",
    "\n",
    "I. CORE SOM COMPONENTS\n",
    "   - I.1 Weight Grid Initialization\n",
    "   - I.2 Distance Metrics\n",
    "   - I.3 BMU (Best Matching Unit)\n",
    "   - I.4 Neighborhood Function\n",
    "   - I.5 Weight Update Rule\n",
    "\n",
    "II. EXTENDED TRAINING COMPONENTS\n",
    "   - II.1 A 2D Toy Dataset\n",
    "   - II.2 U-Matrix\n",
    "   - II.3 Naive Training Loop\n",
    "   - II.4 Quantization Error (QE)\n",
    "   - II.5 Topographic Error (TE)\n",
    "   - II.6 LR and σ Schedulers\n",
    "   - II.7 Advanced Training Loop with Schedulers\n",
    "   - II.8 Revised Plan\n",
    "\n",
    "III. WEIGHTS INITIALIZATION METHODS\n",
    "   - III.1 Random Initialization\n",
    "   - III.2 PCA Initialization\n",
    "\n",
    "IV. ADDITIONAL VISUALIZATIONS\n",
    "\n",
    "V. REFACTORING\n",
    "   - V.1 Class Implementation\n",
    "   - V.2 README.md\n",
    "\n",
    "Each section follows the step-by-step development process, from basic components to the final package implementation.\n",
    "```\n",
    "\n",
    "Would you like me to:\n",
    "1. Add more detail to any section\n",
    "2. Reorganize any part\n",
    "3. Add subsections I might have missed?"
   ]
  }
 ],
 "metadata": {
  "kernelspec": {
   "display_name": "python3",
   "language": "python",
   "name": "python3"
  }
 },
 "nbformat": 4,
 "nbformat_minor": 4
}
